{
 "cells": [
  {
   "cell_type": "markdown",
   "metadata": {},
   "source": [
    "# Watching Great Movies and Uncovering Similar Movies Employing Recommendation Systems"
   ]
  },
  {
   "cell_type": "markdown",
   "metadata": {},
   "source": [
    "![mainpic.jpg](images/10-Top-Videos-833x540.jpg)"
   ]
  },
  {
   "cell_type": "markdown",
   "metadata": {},
   "source": [
    "Author: James Stipanowich"
   ]
  },
  {
   "cell_type": "markdown",
   "metadata": {},
   "source": [
    "## Project Overview\n",
    "\n",
    "Watching movies can be a lot of fun. When a person watches a movie, they often judge the movie they encounter. Often the person categorizes and scores a movie based on information from previous movies the person has watched. The opinions about movies a person has define what someone watches and might determine what someone chooses to watch in the future. What if specific information is desired on great movies to watch in the future based on a current highly enjoyed movie? How can a computer imitate the human task of identifying highly rated movies based on opinions about movies a person has watched and uncover other similar movies for a person to watch in the future? The answer is with recommendation systems. Recommendation systems input movie information from movie lovers into a computer algorithm to provide a movie lover with similar movies to watch based on the current movie opinions and information from a movie lover as well as other related sources. The recommendation systems can often take a person's love for a movie and through an algorithm find other popular, similar movies for that person to watch in the future."
   ]
  },
  {
   "cell_type": "markdown",
   "metadata": {},
   "source": [
    "## Business Problem\n",
    "\n",
    "In this project, I am acting as a data scientist in a research lab at the University of Minnesota to build a recommendation system that recommends highly rated movies to people in the University of Minnesota area based on some past information and opinions on great movies expressed by these people. The project contains both modeling and function built-out methods for getting movie recommendations. I want to use a collaborative filtering method to define movie recommendations for the people in this area. I plan to uncover 5 new movie recommendations for any person to watch involved in my experiment using my specific recommendation system algorithms for them each individually."
   ]
  },
  {
   "cell_type": "markdown",
   "metadata": {},
   "source": [
    "## The Data\n",
    "\n",
    "This project uses data from the MovieLens dataset from the GroupLens research lab at the University of Minnesota. The MovieLens dataset can be found at https://grouplens.org/datasets/movielens/latest/. The dataset covers 100836 ratings of movies from past viewings of movies. There are 610 individual movie raters in the dataset and 9724 unique rated movies in the dataset.\n",
    "\n",
    "I decided what data from this dataset to use and how to use it. "
   ]
  },
  {
   "cell_type": "markdown",
   "metadata": {},
   "source": [
    "## Data Preparation"
   ]
  },
  {
   "cell_type": "markdown",
   "metadata": {},
   "source": [
    "The first lines of code here reads in the first smaller subset of data in the dataset which includes a dataframe with how users rated the movies."
   ]
  },
  {
   "cell_type": "code",
   "execution_count": 1,
   "metadata": {},
   "outputs": [
    {
     "data": {
      "text/html": [
       "<div>\n",
       "<style scoped>\n",
       "    .dataframe tbody tr th:only-of-type {\n",
       "        vertical-align: middle;\n",
       "    }\n",
       "\n",
       "    .dataframe tbody tr th {\n",
       "        vertical-align: top;\n",
       "    }\n",
       "\n",
       "    .dataframe thead th {\n",
       "        text-align: right;\n",
       "    }\n",
       "</style>\n",
       "<table border=\"1\" class=\"dataframe\">\n",
       "  <thead>\n",
       "    <tr style=\"text-align: right;\">\n",
       "      <th></th>\n",
       "      <th>userId</th>\n",
       "      <th>movieId</th>\n",
       "      <th>rating</th>\n",
       "      <th>timestamp</th>\n",
       "    </tr>\n",
       "  </thead>\n",
       "  <tbody>\n",
       "    <tr>\n",
       "      <th>0</th>\n",
       "      <td>1</td>\n",
       "      <td>1</td>\n",
       "      <td>4.0</td>\n",
       "      <td>964982703</td>\n",
       "    </tr>\n",
       "    <tr>\n",
       "      <th>1</th>\n",
       "      <td>1</td>\n",
       "      <td>3</td>\n",
       "      <td>4.0</td>\n",
       "      <td>964981247</td>\n",
       "    </tr>\n",
       "    <tr>\n",
       "      <th>2</th>\n",
       "      <td>1</td>\n",
       "      <td>6</td>\n",
       "      <td>4.0</td>\n",
       "      <td>964982224</td>\n",
       "    </tr>\n",
       "    <tr>\n",
       "      <th>3</th>\n",
       "      <td>1</td>\n",
       "      <td>47</td>\n",
       "      <td>5.0</td>\n",
       "      <td>964983815</td>\n",
       "    </tr>\n",
       "    <tr>\n",
       "      <th>4</th>\n",
       "      <td>1</td>\n",
       "      <td>50</td>\n",
       "      <td>5.0</td>\n",
       "      <td>964982931</td>\n",
       "    </tr>\n",
       "  </tbody>\n",
       "</table>\n",
       "</div>"
      ],
      "text/plain": [
       "   userId  movieId  rating  timestamp\n",
       "0       1        1     4.0  964982703\n",
       "1       1        3     4.0  964981247\n",
       "2       1        6     4.0  964982224\n",
       "3       1       47     5.0  964983815\n",
       "4       1       50     5.0  964982931"
      ]
     },
     "execution_count": 1,
     "metadata": {},
     "output_type": "execute_result"
    }
   ],
   "source": [
    "import numpy as np\n",
    "import matplotlib\n",
    "import matplotlib.pyplot as plt\n",
    "%matplotlib inline\n",
    "import pandas as pd\n",
    "df=pd.read_csv('ml-latest-small/ratings.csv')\n",
    "df.head()"
   ]
  },
  {
   "cell_type": "markdown",
   "metadata": {},
   "source": [
    "There are 100836 ratings of movies and 4 features in this subset of the data"
   ]
  },
  {
   "cell_type": "code",
   "execution_count": 2,
   "metadata": {},
   "outputs": [
    {
     "data": {
      "text/plain": [
       "(100836, 4)"
      ]
     },
     "execution_count": 2,
     "metadata": {},
     "output_type": "execute_result"
    }
   ],
   "source": [
    "df.shape"
   ]
  },
  {
   "cell_type": "code",
   "execution_count": 3,
   "metadata": {
    "scrolled": true
   },
   "outputs": [
    {
     "name": "stdout",
     "output_type": "stream",
     "text": [
      "<class 'pandas.core.frame.DataFrame'>\n",
      "RangeIndex: 100836 entries, 0 to 100835\n",
      "Data columns (total 4 columns):\n",
      "userId       100836 non-null int64\n",
      "movieId      100836 non-null int64\n",
      "rating       100836 non-null float64\n",
      "timestamp    100836 non-null int64\n",
      "dtypes: float64(1), int64(3)\n",
      "memory usage: 3.1 MB\n"
     ]
    }
   ],
   "source": [
    "df.info()"
   ]
  },
  {
   "cell_type": "markdown",
   "metadata": {},
   "source": [
    "The next code shows 610 people rated movies and 9724 movies were rated in the subset of data."
   ]
  },
  {
   "cell_type": "code",
   "execution_count": 4,
   "metadata": {},
   "outputs": [
    {
     "data": {
      "text/plain": [
       "610"
      ]
     },
     "execution_count": 4,
     "metadata": {},
     "output_type": "execute_result"
    }
   ],
   "source": [
    "df.userId.nunique()"
   ]
  },
  {
   "cell_type": "code",
   "execution_count": 5,
   "metadata": {},
   "outputs": [
    {
     "data": {
      "text/plain": [
       "9724"
      ]
     },
     "execution_count": 5,
     "metadata": {},
     "output_type": "execute_result"
    }
   ],
   "source": [
    "df.movieId.nunique()"
   ]
  },
  {
   "cell_type": "code",
   "execution_count": 6,
   "metadata": {},
   "outputs": [],
   "source": [
    "items= {'userId': 610, 'movieId': 9724}"
   ]
  },
  {
   "cell_type": "code",
   "execution_count": 11,
   "metadata": {
    "scrolled": true
   },
   "outputs": [
    {
     "data": {
      "text/plain": [
       "Text(0, 0.5, 'Number of Items')"
      ]
     },
     "execution_count": 11,
     "metadata": {},
     "output_type": "execute_result"
    },
    {
     "data": {
      "image/png": "[encoded data removed]",
      "text/plain": [
       "<Figure size 432x288 with 1 Axes>"
      ]
     },
     "metadata": {
      "needs_background": "light"
     },
     "output_type": "display_data"
    }
   ],
   "source": [
    "plt.bar(items.keys(), items.values(), color= 'tab:blue');\n",
    "plt.title(\"Number of Items Per Category in Dataset\", color= \"black\");\n",
    "plt.xticks(color= 'black')\n",
    "plt.ylabel('Number of Items', color= 'black')"
   ]
  },
  {
   "cell_type": "markdown",
   "metadata": {},
   "source": [
    "I looked at the number of movie ratings for each rating category in this subset of the data."
   ]
  },
  {
   "cell_type": "code",
   "execution_count": 8,
   "metadata": {
    "scrolled": true
   },
   "outputs": [
    {
     "data": {
      "text/plain": [
       "4.0    26818\n",
       "3.0    20047\n",
       "5.0    13211\n",
       "3.5    13136\n",
       "4.5     8551\n",
       "2.0     7551\n",
       "2.5     5550\n",
       "1.0     2811\n",
       "1.5     1791\n",
       "0.5     1370\n",
       "Name: rating, dtype: int64"
      ]
     },
     "execution_count": 8,
     "metadata": {},
     "output_type": "execute_result"
    }
   ],
   "source": [
    "ratings= df['rating'].value_counts()\n",
    "ratings"
   ]
  },
  {
   "cell_type": "markdown",
   "metadata": {},
   "source": [
    "In order to look at the spread of ratings in the dataset for my analyses in this project, I created a graph showing how many ratings were in my dataset and how each movie was rated accordingly within the dataset:"
   ]
  },
  {
   "cell_type": "code",
   "execution_count": 9,
   "metadata": {},
   "outputs": [],
   "source": [
    "ratings_sorted= dict(zip(ratings.index, ratings))"
   ]
  },
  {
   "cell_type": "code",
   "execution_count": 10,
   "metadata": {
    "scrolled": false
   },
   "outputs": [
    {
     "data": {
      "image/png": "[encoded data removed]",
      "text/plain": [
       "<Figure size 432x288 with 1 Axes>"
      ]
     },
     "metadata": {
      "needs_background": "light"
     },
     "output_type": "display_data"
    }
   ],
   "source": [
    "plt.bar(ratings_sorted.keys(), ratings_sorted.values(), width= 0.4)\n",
    "plt.xticks(np.arange(0, 5.1, step= 0.5))\n",
    "plt.xlabel('Rating')\n",
    "plt.ylabel('Number of Ratings')\n",
    "plt.title('Spread of Movie Ratings')\n",
    "plt.show()"
   ]
  },
  {
   "cell_type": "markdown",
   "metadata": {},
   "source": [
    "The most common movie rating was a '4' rating. However, I opted to look at the most highly rated movies (a '5' rated movie) when making most movie recommendations."
   ]
  },
  {
   "cell_type": "markdown",
   "metadata": {},
   "source": [
    "The code below reads in the second smaller subset of data in the dataset which includes names and genres of the movies in the data."
   ]
  },
  {
   "cell_type": "code",
   "execution_count": 11,
   "metadata": {},
   "outputs": [
    {
     "data": {
      "text/html": [
       "<div>\n",
       "<style scoped>\n",
       "    .dataframe tbody tr th:only-of-type {\n",
       "        vertical-align: middle;\n",
       "    }\n",
       "\n",
       "    .dataframe tbody tr th {\n",
       "        vertical-align: top;\n",
       "    }\n",
       "\n",
       "    .dataframe thead th {\n",
       "        text-align: right;\n",
       "    }\n",
       "</style>\n",
       "<table border=\"1\" class=\"dataframe\">\n",
       "  <thead>\n",
       "    <tr style=\"text-align: right;\">\n",
       "      <th></th>\n",
       "      <th>movieId</th>\n",
       "      <th>title</th>\n",
       "      <th>genres</th>\n",
       "    </tr>\n",
       "  </thead>\n",
       "  <tbody>\n",
       "    <tr>\n",
       "      <th>0</th>\n",
       "      <td>1</td>\n",
       "      <td>Toy Story (1995)</td>\n",
       "      <td>Adventure|Animation|Children|Comedy|Fantasy</td>\n",
       "    </tr>\n",
       "    <tr>\n",
       "      <th>1</th>\n",
       "      <td>2</td>\n",
       "      <td>Jumanji (1995)</td>\n",
       "      <td>Adventure|Children|Fantasy</td>\n",
       "    </tr>\n",
       "    <tr>\n",
       "      <th>2</th>\n",
       "      <td>3</td>\n",
       "      <td>Grumpier Old Men (1995)</td>\n",
       "      <td>Comedy|Romance</td>\n",
       "    </tr>\n",
       "    <tr>\n",
       "      <th>3</th>\n",
       "      <td>4</td>\n",
       "      <td>Waiting to Exhale (1995)</td>\n",
       "      <td>Comedy|Drama|Romance</td>\n",
       "    </tr>\n",
       "    <tr>\n",
       "      <th>4</th>\n",
       "      <td>5</td>\n",
       "      <td>Father of the Bride Part II (1995)</td>\n",
       "      <td>Comedy</td>\n",
       "    </tr>\n",
       "  </tbody>\n",
       "</table>\n",
       "</div>"
      ],
      "text/plain": [
       "   movieId                               title  \\\n",
       "0        1                    Toy Story (1995)   \n",
       "1        2                      Jumanji (1995)   \n",
       "2        3             Grumpier Old Men (1995)   \n",
       "3        4            Waiting to Exhale (1995)   \n",
       "4        5  Father of the Bride Part II (1995)   \n",
       "\n",
       "                                        genres  \n",
       "0  Adventure|Animation|Children|Comedy|Fantasy  \n",
       "1                   Adventure|Children|Fantasy  \n",
       "2                               Comedy|Romance  \n",
       "3                         Comedy|Drama|Romance  \n",
       "4                                       Comedy  "
      ]
     },
     "execution_count": 11,
     "metadata": {},
     "output_type": "execute_result"
    }
   ],
   "source": [
    "movies=pd.read_csv('ml-latest-small/movies.csv')\n",
    "movies.head()"
   ]
  },
  {
   "cell_type": "markdown",
   "metadata": {},
   "source": [
    "There are three features in this subset of data and 9742 represented movies."
   ]
  },
  {
   "cell_type": "code",
   "execution_count": 12,
   "metadata": {},
   "outputs": [
    {
     "name": "stdout",
     "output_type": "stream",
     "text": [
      "<class 'pandas.core.frame.DataFrame'>\n",
      "RangeIndex: 9742 entries, 0 to 9741\n",
      "Data columns (total 3 columns):\n",
      "movieId    9742 non-null int64\n",
      "title      9742 non-null object\n",
      "genres     9742 non-null object\n",
      "dtypes: int64(1), object(2)\n",
      "memory usage: 228.5+ KB\n"
     ]
    }
   ],
   "source": [
    "movies.info()"
   ]
  },
  {
   "cell_type": "code",
   "execution_count": 13,
   "metadata": {},
   "outputs": [
    {
     "data": {
      "text/plain": [
       "(9742, 3)"
      ]
     },
     "execution_count": 13,
     "metadata": {},
     "output_type": "execute_result"
    }
   ],
   "source": [
    "movies.shape"
   ]
  },
  {
   "cell_type": "markdown",
   "metadata": {},
   "source": [
    "I merged the two subsets of data in the dataset into one complete dataset using the movieId column for simpler manipulation."
   ]
  },
  {
   "cell_type": "code",
   "execution_count": 14,
   "metadata": {
    "scrolled": false
   },
   "outputs": [
    {
     "data": {
      "text/html": [
       "<div>\n",
       "<style scoped>\n",
       "    .dataframe tbody tr th:only-of-type {\n",
       "        vertical-align: middle;\n",
       "    }\n",
       "\n",
       "    .dataframe tbody tr th {\n",
       "        vertical-align: top;\n",
       "    }\n",
       "\n",
       "    .dataframe thead th {\n",
       "        text-align: right;\n",
       "    }\n",
       "</style>\n",
       "<table border=\"1\" class=\"dataframe\">\n",
       "  <thead>\n",
       "    <tr style=\"text-align: right;\">\n",
       "      <th></th>\n",
       "      <th>userId</th>\n",
       "      <th>movieId</th>\n",
       "      <th>rating</th>\n",
       "      <th>timestamp</th>\n",
       "      <th>title</th>\n",
       "      <th>genres</th>\n",
       "    </tr>\n",
       "  </thead>\n",
       "  <tbody>\n",
       "    <tr>\n",
       "      <th>0</th>\n",
       "      <td>1</td>\n",
       "      <td>1</td>\n",
       "      <td>4.0</td>\n",
       "      <td>964982703</td>\n",
       "      <td>Toy Story (1995)</td>\n",
       "      <td>Adventure|Animation|Children|Comedy|Fantasy</td>\n",
       "    </tr>\n",
       "    <tr>\n",
       "      <th>1</th>\n",
       "      <td>5</td>\n",
       "      <td>1</td>\n",
       "      <td>4.0</td>\n",
       "      <td>847434962</td>\n",
       "      <td>Toy Story (1995)</td>\n",
       "      <td>Adventure|Animation|Children|Comedy|Fantasy</td>\n",
       "    </tr>\n",
       "    <tr>\n",
       "      <th>2</th>\n",
       "      <td>7</td>\n",
       "      <td>1</td>\n",
       "      <td>4.5</td>\n",
       "      <td>1106635946</td>\n",
       "      <td>Toy Story (1995)</td>\n",
       "      <td>Adventure|Animation|Children|Comedy|Fantasy</td>\n",
       "    </tr>\n",
       "    <tr>\n",
       "      <th>3</th>\n",
       "      <td>15</td>\n",
       "      <td>1</td>\n",
       "      <td>2.5</td>\n",
       "      <td>1510577970</td>\n",
       "      <td>Toy Story (1995)</td>\n",
       "      <td>Adventure|Animation|Children|Comedy|Fantasy</td>\n",
       "    </tr>\n",
       "    <tr>\n",
       "      <th>4</th>\n",
       "      <td>17</td>\n",
       "      <td>1</td>\n",
       "      <td>4.5</td>\n",
       "      <td>1305696483</td>\n",
       "      <td>Toy Story (1995)</td>\n",
       "      <td>Adventure|Animation|Children|Comedy|Fantasy</td>\n",
       "    </tr>\n",
       "  </tbody>\n",
       "</table>\n",
       "</div>"
      ],
      "text/plain": [
       "   userId  movieId  rating   timestamp             title  \\\n",
       "0       1        1     4.0   964982703  Toy Story (1995)   \n",
       "1       5        1     4.0   847434962  Toy Story (1995)   \n",
       "2       7        1     4.5  1106635946  Toy Story (1995)   \n",
       "3      15        1     2.5  1510577970  Toy Story (1995)   \n",
       "4      17        1     4.5  1305696483  Toy Story (1995)   \n",
       "\n",
       "                                        genres  \n",
       "0  Adventure|Animation|Children|Comedy|Fantasy  \n",
       "1  Adventure|Animation|Children|Comedy|Fantasy  \n",
       "2  Adventure|Animation|Children|Comedy|Fantasy  \n",
       "3  Adventure|Animation|Children|Comedy|Fantasy  \n",
       "4  Adventure|Animation|Children|Comedy|Fantasy  "
      ]
     },
     "execution_count": 14,
     "metadata": {},
     "output_type": "execute_result"
    }
   ],
   "source": [
    "movie_data=pd.merge(df, movies, on= 'movieId')\n",
    "movie_data.head()"
   ]
  },
  {
   "cell_type": "markdown",
   "metadata": {},
   "source": [
    "I looked at the number of rated movies by each individual person in the whole dataset in the next code."
   ]
  },
  {
   "cell_type": "code",
   "execution_count": 15,
   "metadata": {
    "scrolled": true
   },
   "outputs": [
    {
     "data": {
      "text/plain": [
       "userId\n",
       "1       232\n",
       "2        29\n",
       "3        39\n",
       "4       216\n",
       "5        44\n",
       "       ... \n",
       "606    1115\n",
       "607     187\n",
       "608     831\n",
       "609      37\n",
       "610    1302\n",
       "Name: rating, Length: 610, dtype: int64"
      ]
     },
     "execution_count": 15,
     "metadata": {},
     "output_type": "execute_result"
    }
   ],
   "source": [
    "rating_count= movie_data.groupby('userId')['rating'].count()\n",
    "rating_count"
   ]
  },
  {
   "cell_type": "markdown",
   "metadata": {},
   "source": [
    "I constructed a graph of the number of rated movies for each unique user in the dataset:"
   ]
  },
  {
   "cell_type": "code",
   "execution_count": 16,
   "metadata": {},
   "outputs": [],
   "source": [
    "already_rated= dict(zip(rating_count.index, rating_count))"
   ]
  },
  {
   "cell_type": "code",
   "execution_count": 17,
   "metadata": {
    "scrolled": true
   },
   "outputs": [
    {
     "data": {
      "image/png": "[encoded data removed]",
      "text/plain": [
       "<Figure size 1440x720 with 1 Axes>"
      ]
     },
     "metadata": {
      "needs_background": "light"
     },
     "output_type": "display_data"
    }
   ],
   "source": [
    "plt.figure(figsize=(20,10))\n",
    "plt.bar(already_rated.keys(), already_rated.values())\n",
    "plt.xlabel('User')\n",
    "plt.ylabel('Number of Ratings')\n",
    "plt.title('Number of Movies Rated Per User')\n",
    "plt.show()"
   ]
  },
  {
   "cell_type": "markdown",
   "metadata": {},
   "source": [
    "There were explicit ratings from my dataset. The most number of ratings a single user provided was over 2500, which provides a lot of information for assembling recommendations. Some users only provided a couple of ratings so a filling of missing values occurred in some of my recommedation systems creations to get more similarity information to provide predicted recommendations for some users."
   ]
  },
  {
   "cell_type": "markdown",
   "metadata": {},
   "source": [
    "I sorted the rated movies from highest rated to lowest rated to help envision some highly rated movies."
   ]
  },
  {
   "cell_type": "code",
   "execution_count": 18,
   "metadata": {
    "scrolled": true
   },
   "outputs": [
    {
     "data": {
      "text/plain": [
       "9802      5.0\n",
       "31580     5.0\n",
       "31617     5.0\n",
       "13469     5.0\n",
       "71101     5.0\n",
       "         ... \n",
       "18311     0.5\n",
       "91521     0.5\n",
       "86341     0.5\n",
       "100117    0.5\n",
       "22891     0.5\n",
       "Name: rating, Length: 100836, dtype: float64"
      ]
     },
     "execution_count": 18,
     "metadata": {},
     "output_type": "execute_result"
    }
   ],
   "source": [
    "movie_data['rating'].sort_values(ascending=False)"
   ]
  },
  {
   "cell_type": "code",
   "execution_count": 19,
   "metadata": {},
   "outputs": [
    {
     "data": {
      "text/plain": [
       "(100836, 6)"
      ]
     },
     "execution_count": 19,
     "metadata": {},
     "output_type": "execute_result"
    }
   ],
   "source": [
    "movie_data.shape"
   ]
  },
  {
   "cell_type": "markdown",
   "metadata": {},
   "source": [
    "Some of the highest rated movies in the dataset include \"Men in Black\" and \"Speed\"."
   ]
  },
  {
   "cell_type": "code",
   "execution_count": 20,
   "metadata": {},
   "outputs": [
    {
     "data": {
      "text/plain": [
       "'Men in Black (a.k.a. MIB) (1997)'"
      ]
     },
     "execution_count": 20,
     "metadata": {},
     "output_type": "execute_result"
    }
   ],
   "source": [
    "movie_data['title'][9802]"
   ]
  },
  {
   "cell_type": "code",
   "execution_count": 21,
   "metadata": {},
   "outputs": [
    {
     "data": {
      "text/plain": [
       "'Speed (1994)'"
      ]
     },
     "execution_count": 21,
     "metadata": {},
     "output_type": "execute_result"
    }
   ],
   "source": [
    "movie_data['title'][31580]"
   ]
  },
  {
   "cell_type": "markdown",
   "metadata": {},
   "source": [
    "I located all the movies in the dataset that were given a rating of a \"5\" and which user gave out that specific rating."
   ]
  },
  {
   "cell_type": "code",
   "execution_count": 135,
   "metadata": {},
   "outputs": [
    {
     "data": {
      "text/html": [
       "<div>\n",
       "<style scoped>\n",
       "    .dataframe tbody tr th:only-of-type {\n",
       "        vertical-align: middle;\n",
       "    }\n",
       "\n",
       "    .dataframe tbody tr th {\n",
       "        vertical-align: top;\n",
       "    }\n",
       "\n",
       "    .dataframe thead th {\n",
       "        text-align: right;\n",
       "    }\n",
       "</style>\n",
       "<table border=\"1\" class=\"dataframe\">\n",
       "  <thead>\n",
       "    <tr style=\"text-align: right;\">\n",
       "      <th></th>\n",
       "      <th>userId</th>\n",
       "      <th>movieId</th>\n",
       "      <th>rating</th>\n",
       "      <th>timestamp</th>\n",
       "      <th>title</th>\n",
       "      <th>genres</th>\n",
       "    </tr>\n",
       "  </thead>\n",
       "  <tbody>\n",
       "    <tr>\n",
       "      <th>9</th>\n",
       "      <td>31</td>\n",
       "      <td>1</td>\n",
       "      <td>5.0</td>\n",
       "      <td>850466616</td>\n",
       "      <td>Toy Story (1995)</td>\n",
       "      <td>Adventure|Animation|Children|Comedy|Fantasy</td>\n",
       "    </tr>\n",
       "    <tr>\n",
       "      <th>12</th>\n",
       "      <td>40</td>\n",
       "      <td>1</td>\n",
       "      <td>5.0</td>\n",
       "      <td>832058959</td>\n",
       "      <td>Toy Story (1995)</td>\n",
       "      <td>Adventure|Animation|Children|Comedy|Fantasy</td>\n",
       "    </tr>\n",
       "    <tr>\n",
       "      <th>13</th>\n",
       "      <td>43</td>\n",
       "      <td>1</td>\n",
       "      <td>5.0</td>\n",
       "      <td>848993983</td>\n",
       "      <td>Toy Story (1995)</td>\n",
       "      <td>Adventure|Animation|Children|Comedy|Fantasy</td>\n",
       "    </tr>\n",
       "    <tr>\n",
       "      <th>16</th>\n",
       "      <td>46</td>\n",
       "      <td>1</td>\n",
       "      <td>5.0</td>\n",
       "      <td>834787906</td>\n",
       "      <td>Toy Story (1995)</td>\n",
       "      <td>Adventure|Animation|Children|Comedy|Fantasy</td>\n",
       "    </tr>\n",
       "    <tr>\n",
       "      <th>19</th>\n",
       "      <td>57</td>\n",
       "      <td>1</td>\n",
       "      <td>5.0</td>\n",
       "      <td>965796031</td>\n",
       "      <td>Toy Story (1995)</td>\n",
       "      <td>Adventure|Animation|Children|Comedy|Fantasy</td>\n",
       "    </tr>\n",
       "    <tr>\n",
       "      <th>...</th>\n",
       "      <td>...</td>\n",
       "      <td>...</td>\n",
       "      <td>...</td>\n",
       "      <td>...</td>\n",
       "      <td>...</td>\n",
       "      <td>...</td>\n",
       "    </tr>\n",
       "    <tr>\n",
       "      <th>100761</th>\n",
       "      <td>610</td>\n",
       "      <td>96832</td>\n",
       "      <td>5.0</td>\n",
       "      <td>1479545188</td>\n",
       "      <td>Holy Motors (2012)</td>\n",
       "      <td>Drama|Fantasy|Musical|Mystery|Sci-Fi</td>\n",
       "    </tr>\n",
       "    <tr>\n",
       "      <th>100773</th>\n",
       "      <td>610</td>\n",
       "      <td>100906</td>\n",
       "      <td>5.0</td>\n",
       "      <td>1479542714</td>\n",
       "      <td>Maniac Cop 2 (1990)</td>\n",
       "      <td>Action|Horror|Thriller</td>\n",
       "    </tr>\n",
       "    <tr>\n",
       "      <th>100787</th>\n",
       "      <td>610</td>\n",
       "      <td>107771</td>\n",
       "      <td>5.0</td>\n",
       "      <td>1479544448</td>\n",
       "      <td>Only Lovers Left Alive (2013)</td>\n",
       "      <td>Drama|Horror|Romance</td>\n",
       "    </tr>\n",
       "    <tr>\n",
       "      <th>100802</th>\n",
       "      <td>610</td>\n",
       "      <td>115727</td>\n",
       "      <td>5.0</td>\n",
       "      <td>1479544153</td>\n",
       "      <td>Crippled Avengers (Can que) (Return of the 5 D...</td>\n",
       "      <td>Action|Adventure</td>\n",
       "    </tr>\n",
       "    <tr>\n",
       "      <th>100815</th>\n",
       "      <td>610</td>\n",
       "      <td>138632</td>\n",
       "      <td>5.0</td>\n",
       "      <td>1479545420</td>\n",
       "      <td>Tokyo Tribe (2014)</td>\n",
       "      <td>Action|Crime|Drama|Sci-Fi</td>\n",
       "    </tr>\n",
       "  </tbody>\n",
       "</table>\n",
       "<p>13211 rows × 6 columns</p>\n",
       "</div>"
      ],
      "text/plain": [
       "        userId  movieId  rating   timestamp  \\\n",
       "9           31        1     5.0   850466616   \n",
       "12          40        1     5.0   832058959   \n",
       "13          43        1     5.0   848993983   \n",
       "16          46        1     5.0   834787906   \n",
       "19          57        1     5.0   965796031   \n",
       "...        ...      ...     ...         ...   \n",
       "100761     610    96832     5.0  1479545188   \n",
       "100773     610   100906     5.0  1479542714   \n",
       "100787     610   107771     5.0  1479544448   \n",
       "100802     610   115727     5.0  1479544153   \n",
       "100815     610   138632     5.0  1479545420   \n",
       "\n",
       "                                                    title  \\\n",
       "9                                        Toy Story (1995)   \n",
       "12                                       Toy Story (1995)   \n",
       "13                                       Toy Story (1995)   \n",
       "16                                       Toy Story (1995)   \n",
       "19                                       Toy Story (1995)   \n",
       "...                                                   ...   \n",
       "100761                                 Holy Motors (2012)   \n",
       "100773                                Maniac Cop 2 (1990)   \n",
       "100787                      Only Lovers Left Alive (2013)   \n",
       "100802  Crippled Avengers (Can que) (Return of the 5 D...   \n",
       "100815                                 Tokyo Tribe (2014)   \n",
       "\n",
       "                                             genres  \n",
       "9       Adventure|Animation|Children|Comedy|Fantasy  \n",
       "12      Adventure|Animation|Children|Comedy|Fantasy  \n",
       "13      Adventure|Animation|Children|Comedy|Fantasy  \n",
       "16      Adventure|Animation|Children|Comedy|Fantasy  \n",
       "19      Adventure|Animation|Children|Comedy|Fantasy  \n",
       "...                                             ...  \n",
       "100761         Drama|Fantasy|Musical|Mystery|Sci-Fi  \n",
       "100773                       Action|Horror|Thriller  \n",
       "100787                         Drama|Horror|Romance  \n",
       "100802                             Action|Adventure  \n",
       "100815                    Action|Crime|Drama|Sci-Fi  \n",
       "\n",
       "[13211 rows x 6 columns]"
      ]
     },
     "execution_count": 135,
     "metadata": {},
     "output_type": "execute_result"
    }
   ],
   "source": [
    "movie_data.loc[movie_data['rating']==5]"
   ]
  },
  {
   "cell_type": "markdown",
   "metadata": {},
   "source": [
    "I located user 43 because that is my example user to create recommendations for in my project. User 43 rated the movie, \"Toy Story\" with a '5'. That is the movie I want to get similar recommendations for in my project."
   ]
  },
  {
   "cell_type": "code",
   "execution_count": 23,
   "metadata": {
    "scrolled": false
   },
   "outputs": [
    {
     "data": {
      "text/html": [
       "<div>\n",
       "<style scoped>\n",
       "    .dataframe tbody tr th:only-of-type {\n",
       "        vertical-align: middle;\n",
       "    }\n",
       "\n",
       "    .dataframe tbody tr th {\n",
       "        vertical-align: top;\n",
       "    }\n",
       "\n",
       "    .dataframe thead th {\n",
       "        text-align: right;\n",
       "    }\n",
       "</style>\n",
       "<table border=\"1\" class=\"dataframe\">\n",
       "  <thead>\n",
       "    <tr style=\"text-align: right;\">\n",
       "      <th></th>\n",
       "      <th>userId</th>\n",
       "      <th>movieId</th>\n",
       "      <th>rating</th>\n",
       "      <th>timestamp</th>\n",
       "      <th>title</th>\n",
       "      <th>genres</th>\n",
       "    </tr>\n",
       "  </thead>\n",
       "  <tbody>\n",
       "    <tr>\n",
       "      <th>13</th>\n",
       "      <td>43</td>\n",
       "      <td>1</td>\n",
       "      <td>5.0</td>\n",
       "      <td>848993983</td>\n",
       "      <td>Toy Story (1995)</td>\n",
       "      <td>Adventure|Animation|Children|Comedy|Fantasy</td>\n",
       "    </tr>\n",
       "    <tr>\n",
       "      <th>220</th>\n",
       "      <td>43</td>\n",
       "      <td>3</td>\n",
       "      <td>5.0</td>\n",
       "      <td>848994405</td>\n",
       "      <td>Grumpier Old Men (1995)</td>\n",
       "      <td>Comedy|Romance</td>\n",
       "    </tr>\n",
       "    <tr>\n",
       "      <th>385</th>\n",
       "      <td>43</td>\n",
       "      <td>47</td>\n",
       "      <td>4.0</td>\n",
       "      <td>848993793</td>\n",
       "      <td>Seven (a.k.a. Se7en) (1995)</td>\n",
       "      <td>Mystery|Thriller</td>\n",
       "    </tr>\n",
       "    <tr>\n",
       "      <th>869</th>\n",
       "      <td>43</td>\n",
       "      <td>110</td>\n",
       "      <td>3.0</td>\n",
       "      <td>848993747</td>\n",
       "      <td>Braveheart (1995)</td>\n",
       "      <td>Action|Drama|War</td>\n",
       "    </tr>\n",
       "    <tr>\n",
       "      <th>1376</th>\n",
       "      <td>43</td>\n",
       "      <td>231</td>\n",
       "      <td>3.0</td>\n",
       "      <td>848993694</td>\n",
       "      <td>Dumb &amp; Dumber (Dumb and Dumber) (1994)</td>\n",
       "      <td>Adventure|Comedy</td>\n",
       "    </tr>\n",
       "    <tr>\n",
       "      <th>...</th>\n",
       "      <td>...</td>\n",
       "      <td>...</td>\n",
       "      <td>...</td>\n",
       "      <td>...</td>\n",
       "      <td>...</td>\n",
       "      <td>...</td>\n",
       "    </tr>\n",
       "    <tr>\n",
       "      <th>77344</th>\n",
       "      <td>43</td>\n",
       "      <td>259</td>\n",
       "      <td>4.0</td>\n",
       "      <td>848994678</td>\n",
       "      <td>Kiss of Death (1995)</td>\n",
       "      <td>Crime|Drama|Thriller</td>\n",
       "    </tr>\n",
       "    <tr>\n",
       "      <th>77349</th>\n",
       "      <td>43</td>\n",
       "      <td>484</td>\n",
       "      <td>5.0</td>\n",
       "      <td>848995032</td>\n",
       "      <td>Lassie (1994)</td>\n",
       "      <td>Adventure|Children</td>\n",
       "    </tr>\n",
       "    <tr>\n",
       "      <th>77351</th>\n",
       "      <td>43</td>\n",
       "      <td>519</td>\n",
       "      <td>5.0</td>\n",
       "      <td>848994479</td>\n",
       "      <td>RoboCop 3 (1993)</td>\n",
       "      <td>Action|Crime|Drama|Sci-Fi|Thriller</td>\n",
       "    </tr>\n",
       "    <tr>\n",
       "      <th>77372</th>\n",
       "      <td>43</td>\n",
       "      <td>828</td>\n",
       "      <td>5.0</td>\n",
       "      <td>848995086</td>\n",
       "      <td>Adventures of Pinocchio, The (1996)</td>\n",
       "      <td>Adventure|Children</td>\n",
       "    </tr>\n",
       "    <tr>\n",
       "      <th>77378</th>\n",
       "      <td>43</td>\n",
       "      <td>1105</td>\n",
       "      <td>5.0</td>\n",
       "      <td>848995145</td>\n",
       "      <td>Children of the Corn IV: The Gathering (1996)</td>\n",
       "      <td>Horror</td>\n",
       "    </tr>\n",
       "  </tbody>\n",
       "</table>\n",
       "<p>114 rows × 6 columns</p>\n",
       "</div>"
      ],
      "text/plain": [
       "       userId  movieId  rating  timestamp  \\\n",
       "13         43        1     5.0  848993983   \n",
       "220        43        3     5.0  848994405   \n",
       "385        43       47     4.0  848993793   \n",
       "869        43      110     3.0  848993747   \n",
       "1376       43      231     3.0  848993694   \n",
       "...       ...      ...     ...        ...   \n",
       "77344      43      259     4.0  848994678   \n",
       "77349      43      484     5.0  848995032   \n",
       "77351      43      519     5.0  848994479   \n",
       "77372      43      828     5.0  848995086   \n",
       "77378      43     1105     5.0  848995145   \n",
       "\n",
       "                                               title  \\\n",
       "13                                  Toy Story (1995)   \n",
       "220                          Grumpier Old Men (1995)   \n",
       "385                      Seven (a.k.a. Se7en) (1995)   \n",
       "869                                Braveheart (1995)   \n",
       "1376          Dumb & Dumber (Dumb and Dumber) (1994)   \n",
       "...                                              ...   \n",
       "77344                           Kiss of Death (1995)   \n",
       "77349                                  Lassie (1994)   \n",
       "77351                               RoboCop 3 (1993)   \n",
       "77372            Adventures of Pinocchio, The (1996)   \n",
       "77378  Children of the Corn IV: The Gathering (1996)   \n",
       "\n",
       "                                            genres  \n",
       "13     Adventure|Animation|Children|Comedy|Fantasy  \n",
       "220                                 Comedy|Romance  \n",
       "385                               Mystery|Thriller  \n",
       "869                               Action|Drama|War  \n",
       "1376                              Adventure|Comedy  \n",
       "...                                            ...  \n",
       "77344                         Crime|Drama|Thriller  \n",
       "77349                           Adventure|Children  \n",
       "77351           Action|Crime|Drama|Sci-Fi|Thriller  \n",
       "77372                           Adventure|Children  \n",
       "77378                                       Horror  \n",
       "\n",
       "[114 rows x 6 columns]"
      ]
     },
     "execution_count": 23,
     "metadata": {},
     "output_type": "execute_result"
    }
   ],
   "source": [
    "movie_data.loc[movie_data['userId']==43]"
   ]
  },
  {
   "cell_type": "markdown",
   "metadata": {},
   "source": [
    "## Data Modeling"
   ]
  },
  {
   "cell_type": "markdown",
   "metadata": {},
   "source": [
    "After trying different models and code, I chose to go with three different paths to retrieving top 5 movie recommendations. The best model for attaining top 5 movie recommendations was the SVD model."
   ]
  },
  {
   "cell_type": "markdown",
   "metadata": {},
   "source": [
    "For my recommendation system methods I decided to find recommendations for user 43 in the dataset who watched the movie, \"Toy Story,\" and rated the movie a '5'. This was a highly rated film and I wanted to find similar such films through recommendation systems."
   ]
  },
  {
   "cell_type": "markdown",
   "metadata": {},
   "source": [
    "### Recommendation System 1: SVD"
   ]
  },
  {
   "cell_type": "markdown",
   "metadata": {},
   "source": [
    "The next cells instantiate the SVD model using surprise libraries. The data was read into surprise libraries and a train test split was performed."
   ]
  },
  {
   "cell_type": "code",
   "execution_count": 25,
   "metadata": {},
   "outputs": [],
   "source": [
    "from surprise import Dataset, Reader\n",
    "from surprise import SVD\n",
    "from surprise import accuracy\n",
    "from surprise.model_selection import cross_validate, train_test_split"
   ]
  },
  {
   "cell_type": "code",
   "execution_count": 26,
   "metadata": {},
   "outputs": [],
   "source": [
    "data= df[['userId', 'movieId', 'rating']]\n",
    "reader= Reader(line_format= 'user item rating', sep= ',')\n",
    "data= Dataset.load_from_df(data, reader=reader)"
   ]
  },
  {
   "cell_type": "code",
   "execution_count": 27,
   "metadata": {},
   "outputs": [],
   "source": [
    "trainset, testset= train_test_split(data)"
   ]
  },
  {
   "cell_type": "code",
   "execution_count": 28,
   "metadata": {},
   "outputs": [],
   "source": [
    "svd= SVD()"
   ]
  },
  {
   "cell_type": "code",
   "execution_count": 29,
   "metadata": {},
   "outputs": [
    {
     "data": {
      "text/plain": [
       "<surprise.prediction_algorithms.matrix_factorization.SVD at 0x126f26865f8>"
      ]
     },
     "execution_count": 29,
     "metadata": {},
     "output_type": "execute_result"
    }
   ],
   "source": [
    "svd.fit(trainset)"
   ]
  },
  {
   "cell_type": "markdown",
   "metadata": {},
   "source": [
    "The model had a solid root mean squared error(RMSE) of .8724."
   ]
  },
  {
   "cell_type": "code",
   "execution_count": 30,
   "metadata": {
    "scrolled": true
   },
   "outputs": [
    {
     "name": "stdout",
     "output_type": "stream",
     "text": [
      "RMSE: 0.8724\n"
     ]
    },
    {
     "data": {
      "text/plain": [
       "0.8724104779198343"
      ]
     },
     "execution_count": 30,
     "metadata": {},
     "output_type": "execute_result"
    }
   ],
   "source": [
    "predictions= svd.test(testset)\n",
    "accuracy.rmse(predictions)"
   ]
  },
  {
   "cell_type": "markdown",
   "metadata": {},
   "source": [
    "The top ten predictions from the test set are listed below where SVD tries to match the estimated score to the initial rating for the film by each user."
   ]
  },
  {
   "cell_type": "code",
   "execution_count": 32,
   "metadata": {
    "scrolled": true
   },
   "outputs": [
    {
     "data": {
      "text/plain": [
       "[Prediction(uid=560, iid=3825, r_ui=2.5, est=2.9447150155697277, details={'was_impossible': False}),\n",
       " Prediction(uid=414, iid=5951, r_ui=2.5, est=3.423451868044626, details={'was_impossible': False}),\n",
       " Prediction(uid=1, iid=1060, r_ui=4.0, est=4.351451536386521, details={'was_impossible': False}),\n",
       " Prediction(uid=480, iid=7161, r_ui=0.5, est=2.5622523185630137, details={'was_impossible': False}),\n",
       " Prediction(uid=361, iid=420, r_ui=3.5, est=2.789245735346649, details={'was_impossible': False}),\n",
       " Prediction(uid=509, iid=89678, r_ui=4.0, est=3.180745027793939, details={'was_impossible': False}),\n",
       " Prediction(uid=249, iid=84942, r_ui=3.5, est=3.6762468833474884, details={'was_impossible': False}),\n",
       " Prediction(uid=555, iid=3105, r_ui=4.0, est=3.472288261479017, details={'was_impossible': False}),\n",
       " Prediction(uid=57, iid=2997, r_ui=4.0, est=4.17428963589261, details={'was_impossible': False}),\n",
       " Prediction(uid=165, iid=5505, r_ui=3.0, est=3.200522698473336, details={'was_impossible': False})]"
      ]
     },
     "execution_count": 32,
     "metadata": {},
     "output_type": "execute_result"
    }
   ],
   "source": [
    "predictions[:10]"
   ]
  },
  {
   "cell_type": "markdown",
   "metadata": {},
   "source": [
    "The following code takes in a user and an item and gives an estimated rating for how that user might rate that item in a recommendation system. The first set of code is a confirmation of user 43 who watched \"Toy Story\" with an estimated rating of a '5'."
   ]
  },
  {
   "cell_type": "code",
   "execution_count": 33,
   "metadata": {},
   "outputs": [
    {
     "data": {
      "text/plain": [
       "Prediction(uid=43, iid=1, r_ui=None, est=5, details={'was_impossible': False})"
      ]
     },
     "execution_count": 33,
     "metadata": {},
     "output_type": "execute_result"
    }
   ],
   "source": [
    "user=43\n",
    "item= 1\n",
    "svd.predict(user, item)"
   ]
  },
  {
   "cell_type": "markdown",
   "metadata": {},
   "source": [
    "I located the movie, \"Toy Story\", in my dataset subset."
   ]
  },
  {
   "cell_type": "code",
   "execution_count": 38,
   "metadata": {},
   "outputs": [
    {
     "data": {
      "text/html": [
       "<div>\n",
       "<style scoped>\n",
       "    .dataframe tbody tr th:only-of-type {\n",
       "        vertical-align: middle;\n",
       "    }\n",
       "\n",
       "    .dataframe tbody tr th {\n",
       "        vertical-align: top;\n",
       "    }\n",
       "\n",
       "    .dataframe thead th {\n",
       "        text-align: right;\n",
       "    }\n",
       "</style>\n",
       "<table border=\"1\" class=\"dataframe\">\n",
       "  <thead>\n",
       "    <tr style=\"text-align: right;\">\n",
       "      <th></th>\n",
       "      <th>movieId</th>\n",
       "      <th>title</th>\n",
       "      <th>genres</th>\n",
       "    </tr>\n",
       "  </thead>\n",
       "  <tbody>\n",
       "    <tr>\n",
       "      <th>0</th>\n",
       "      <td>1</td>\n",
       "      <td>Toy Story (1995)</td>\n",
       "      <td>Adventure|Animation|Children|Comedy|Fantasy</td>\n",
       "    </tr>\n",
       "  </tbody>\n",
       "</table>\n",
       "</div>"
      ],
      "text/plain": [
       "   movieId             title                                       genres\n",
       "0        1  Toy Story (1995)  Adventure|Animation|Children|Comedy|Fantasy"
      ]
     },
     "execution_count": 38,
     "metadata": {},
     "output_type": "execute_result"
    }
   ],
   "source": [
    "movies.loc[movies['movieId']== 1]"
   ]
  },
  {
   "cell_type": "markdown",
   "metadata": {},
   "source": [
    "The next cells are item recommendations for user 43 using the SVD model. They are highly rated movies."
   ]
  },
  {
   "cell_type": "code",
   "execution_count": 447,
   "metadata": {},
   "outputs": [
    {
     "data": {
      "text/plain": [
       "Prediction(uid=43, iid=362, r_ui=None, est=4.778635988966866, details={'was_impossible': False})"
      ]
     },
     "execution_count": 447,
     "metadata": {},
     "output_type": "execute_result"
    }
   ],
   "source": [
    "user=43\n",
    "item= 362\n",
    "svd.predict(user, item)"
   ]
  },
  {
   "cell_type": "code",
   "execution_count": 446,
   "metadata": {},
   "outputs": [
    {
     "data": {
      "text/html": [
       "<div>\n",
       "<style scoped>\n",
       "    .dataframe tbody tr th:only-of-type {\n",
       "        vertical-align: middle;\n",
       "    }\n",
       "\n",
       "    .dataframe tbody tr th {\n",
       "        vertical-align: top;\n",
       "    }\n",
       "\n",
       "    .dataframe thead th {\n",
       "        text-align: right;\n",
       "    }\n",
       "</style>\n",
       "<table border=\"1\" class=\"dataframe\">\n",
       "  <thead>\n",
       "    <tr style=\"text-align: right;\">\n",
       "      <th></th>\n",
       "      <th>movieId</th>\n",
       "      <th>title</th>\n",
       "      <th>genres</th>\n",
       "    </tr>\n",
       "  </thead>\n",
       "  <tbody>\n",
       "    <tr>\n",
       "      <th>320</th>\n",
       "      <td>362</td>\n",
       "      <td>Jungle Book, The (1994)</td>\n",
       "      <td>Adventure|Children|Romance</td>\n",
       "    </tr>\n",
       "  </tbody>\n",
       "</table>\n",
       "</div>"
      ],
      "text/plain": [
       "     movieId                    title                      genres\n",
       "320      362  Jungle Book, The (1994)  Adventure|Children|Romance"
      ]
     },
     "execution_count": 446,
     "metadata": {},
     "output_type": "execute_result"
    }
   ],
   "source": [
    "movies.loc[movies['movieId']== 362]"
   ]
  },
  {
   "cell_type": "code",
   "execution_count": 41,
   "metadata": {},
   "outputs": [
    {
     "data": {
      "text/plain": [
       "Prediction(uid=43, iid=500, r_ui=None, est=4.843212956090433, details={'was_impossible': False})"
      ]
     },
     "execution_count": 41,
     "metadata": {},
     "output_type": "execute_result"
    }
   ],
   "source": [
    "user=43\n",
    "item= 500\n",
    "svd.predict(user, item)"
   ]
  },
  {
   "cell_type": "code",
   "execution_count": 42,
   "metadata": {},
   "outputs": [
    {
     "data": {
      "text/html": [
       "<div>\n",
       "<style scoped>\n",
       "    .dataframe tbody tr th:only-of-type {\n",
       "        vertical-align: middle;\n",
       "    }\n",
       "\n",
       "    .dataframe tbody tr th {\n",
       "        vertical-align: top;\n",
       "    }\n",
       "\n",
       "    .dataframe thead th {\n",
       "        text-align: right;\n",
       "    }\n",
       "</style>\n",
       "<table border=\"1\" class=\"dataframe\">\n",
       "  <thead>\n",
       "    <tr style=\"text-align: right;\">\n",
       "      <th></th>\n",
       "      <th>movieId</th>\n",
       "      <th>title</th>\n",
       "      <th>genres</th>\n",
       "    </tr>\n",
       "  </thead>\n",
       "  <tbody>\n",
       "    <tr>\n",
       "      <th>436</th>\n",
       "      <td>500</td>\n",
       "      <td>Mrs. Doubtfire (1993)</td>\n",
       "      <td>Comedy|Drama</td>\n",
       "    </tr>\n",
       "  </tbody>\n",
       "</table>\n",
       "</div>"
      ],
      "text/plain": [
       "     movieId                  title        genres\n",
       "436      500  Mrs. Doubtfire (1993)  Comedy|Drama"
      ]
     },
     "execution_count": 42,
     "metadata": {},
     "output_type": "execute_result"
    }
   ],
   "source": [
    "movies.loc[movies['movieId']== 500]"
   ]
  },
  {
   "cell_type": "code",
   "execution_count": 439,
   "metadata": {
    "scrolled": true
   },
   "outputs": [
    {
     "data": {
      "text/plain": [
       "Prediction(uid=43, iid=356, r_ui=None, est=5, details={'was_impossible': False})"
      ]
     },
     "execution_count": 439,
     "metadata": {},
     "output_type": "execute_result"
    }
   ],
   "source": [
    "user=43\n",
    "item= 356\n",
    "svd.predict(user, item)"
   ]
  },
  {
   "cell_type": "code",
   "execution_count": 438,
   "metadata": {},
   "outputs": [
    {
     "data": {
      "text/html": [
       "<div>\n",
       "<style scoped>\n",
       "    .dataframe tbody tr th:only-of-type {\n",
       "        vertical-align: middle;\n",
       "    }\n",
       "\n",
       "    .dataframe tbody tr th {\n",
       "        vertical-align: top;\n",
       "    }\n",
       "\n",
       "    .dataframe thead th {\n",
       "        text-align: right;\n",
       "    }\n",
       "</style>\n",
       "<table border=\"1\" class=\"dataframe\">\n",
       "  <thead>\n",
       "    <tr style=\"text-align: right;\">\n",
       "      <th></th>\n",
       "      <th>movieId</th>\n",
       "      <th>title</th>\n",
       "      <th>genres</th>\n",
       "    </tr>\n",
       "  </thead>\n",
       "  <tbody>\n",
       "    <tr>\n",
       "      <th>314</th>\n",
       "      <td>356</td>\n",
       "      <td>Forrest Gump (1994)</td>\n",
       "      <td>Comedy|Drama|Romance|War</td>\n",
       "    </tr>\n",
       "  </tbody>\n",
       "</table>\n",
       "</div>"
      ],
      "text/plain": [
       "     movieId                title                    genres\n",
       "314      356  Forrest Gump (1994)  Comedy|Drama|Romance|War"
      ]
     },
     "execution_count": 438,
     "metadata": {},
     "output_type": "execute_result"
    }
   ],
   "source": [
    "movies.loc[movies['movieId']== 356]"
   ]
  },
  {
   "cell_type": "code",
   "execution_count": 337,
   "metadata": {},
   "outputs": [
    {
     "data": {
      "text/plain": [
       "Prediction(uid=43, iid=260, r_ui=None, est=5, details={'was_impossible': False})"
      ]
     },
     "execution_count": 337,
     "metadata": {},
     "output_type": "execute_result"
    }
   ],
   "source": [
    "user=43\n",
    "item= 260\n",
    "svd.predict(user, item)"
   ]
  },
  {
   "cell_type": "code",
   "execution_count": 336,
   "metadata": {},
   "outputs": [
    {
     "data": {
      "text/html": [
       "<div>\n",
       "<style scoped>\n",
       "    .dataframe tbody tr th:only-of-type {\n",
       "        vertical-align: middle;\n",
       "    }\n",
       "\n",
       "    .dataframe tbody tr th {\n",
       "        vertical-align: top;\n",
       "    }\n",
       "\n",
       "    .dataframe thead th {\n",
       "        text-align: right;\n",
       "    }\n",
       "</style>\n",
       "<table border=\"1\" class=\"dataframe\">\n",
       "  <thead>\n",
       "    <tr style=\"text-align: right;\">\n",
       "      <th></th>\n",
       "      <th>movieId</th>\n",
       "      <th>title</th>\n",
       "      <th>genres</th>\n",
       "    </tr>\n",
       "  </thead>\n",
       "  <tbody>\n",
       "    <tr>\n",
       "      <th>224</th>\n",
       "      <td>260</td>\n",
       "      <td>Star Wars: Episode IV - A New Hope (1977)</td>\n",
       "      <td>Action|Adventure|Sci-Fi</td>\n",
       "    </tr>\n",
       "  </tbody>\n",
       "</table>\n",
       "</div>"
      ],
      "text/plain": [
       "     movieId                                      title  \\\n",
       "224      260  Star Wars: Episode IV - A New Hope (1977)   \n",
       "\n",
       "                      genres  \n",
       "224  Action|Adventure|Sci-Fi  "
      ]
     },
     "execution_count": 336,
     "metadata": {},
     "output_type": "execute_result"
    }
   ],
   "source": [
    "movies.loc[movies['movieId']== 260]"
   ]
  },
  {
   "cell_type": "code",
   "execution_count": 215,
   "metadata": {},
   "outputs": [
    {
     "data": {
      "text/plain": [
       "Prediction(uid=43, iid=150, r_ui=None, est=4.937486290309515, details={'was_impossible': False})"
      ]
     },
     "execution_count": 215,
     "metadata": {},
     "output_type": "execute_result"
    }
   ],
   "source": [
    "user=43\n",
    "item= 150\n",
    "svd.predict(user, item)"
   ]
  },
  {
   "cell_type": "code",
   "execution_count": 214,
   "metadata": {
    "scrolled": true
   },
   "outputs": [
    {
     "data": {
      "text/html": [
       "<div>\n",
       "<style scoped>\n",
       "    .dataframe tbody tr th:only-of-type {\n",
       "        vertical-align: middle;\n",
       "    }\n",
       "\n",
       "    .dataframe tbody tr th {\n",
       "        vertical-align: top;\n",
       "    }\n",
       "\n",
       "    .dataframe thead th {\n",
       "        text-align: right;\n",
       "    }\n",
       "</style>\n",
       "<table border=\"1\" class=\"dataframe\">\n",
       "  <thead>\n",
       "    <tr style=\"text-align: right;\">\n",
       "      <th></th>\n",
       "      <th>movieId</th>\n",
       "      <th>title</th>\n",
       "      <th>genres</th>\n",
       "    </tr>\n",
       "  </thead>\n",
       "  <tbody>\n",
       "    <tr>\n",
       "      <th>123</th>\n",
       "      <td>150</td>\n",
       "      <td>Apollo 13 (1995)</td>\n",
       "      <td>Adventure|Drama|IMAX</td>\n",
       "    </tr>\n",
       "  </tbody>\n",
       "</table>\n",
       "</div>"
      ],
      "text/plain": [
       "     movieId             title                genres\n",
       "123      150  Apollo 13 (1995)  Adventure|Drama|IMAX"
      ]
     },
     "execution_count": 214,
     "metadata": {},
     "output_type": "execute_result"
    }
   ],
   "source": [
    "movies.loc[movies['movieId']== 150]"
   ]
  },
  {
   "cell_type": "markdown",
   "metadata": {},
   "source": [
    "The SVD model is the best of the models I created with predicted values not far off from actual true values. SVD can deal with a cold start because it provides accurate estimated ratings for unwatched movies. The SVD model had the lowest RMSE of my models. Predictions can be made for any movie in the dataset for user 43 or for any other user. The recommendations provided were highly rated movies. Most movies recommended were released around the same year \"Toy Story\" was released."
   ]
  },
  {
   "cell_type": "markdown",
   "metadata": {},
   "source": [
    "### Recommendation System 2 : KNN"
   ]
  },
  {
   "cell_type": "markdown",
   "metadata": {},
   "source": [
    "I instantiated a KNN model with a user-based option to find users similar to user 43 who watched the movie, \"Toy Story,\" and rated the movie a '5'."
   ]
  },
  {
   "cell_type": "code",
   "execution_count": 295,
   "metadata": {},
   "outputs": [],
   "source": [
    "from surprise import KNNBasic"
   ]
  },
  {
   "cell_type": "code",
   "execution_count": 296,
   "metadata": {},
   "outputs": [
    {
     "name": "stdout",
     "output_type": "stream",
     "text": [
      "Computing the msd similarity matrix...\n",
      "Done computing similarity matrix.\n"
     ]
    }
   ],
   "source": [
    "KNN_model= KNNBasic(sim_options={'user_based': True}).fit(trainset)"
   ]
  },
  {
   "cell_type": "markdown",
   "metadata": {},
   "source": [
    "I looked at five cross validation folds for my KNN model revealing a root mean squared error(RMSE) averaging .9467. This was higher than my SVD model score."
   ]
  },
  {
   "cell_type": "code",
   "execution_count": 297,
   "metadata": {
    "scrolled": true
   },
   "outputs": [
    {
     "name": "stdout",
     "output_type": "stream",
     "text": [
      "Computing the msd similarity matrix...\n",
      "Done computing similarity matrix.\n",
      "Computing the msd similarity matrix...\n",
      "Done computing similarity matrix.\n",
      "Computing the msd similarity matrix...\n",
      "Done computing similarity matrix.\n",
      "Computing the msd similarity matrix...\n",
      "Done computing similarity matrix.\n",
      "Computing the msd similarity matrix...\n",
      "Done computing similarity matrix.\n",
      "Evaluating RMSE, MAE of algorithm KNNBasic on 5 split(s).\n",
      "\n",
      "                  Fold 1  Fold 2  Fold 3  Fold 4  Fold 5  Mean    Std     \n",
      "RMSE (testset)    0.9510  0.9480  0.9439  0.9447  0.9461  0.9467  0.0025  \n",
      "MAE (testset)     0.7278  0.7265  0.7232  0.7268  0.7252  0.7259  0.0016  \n",
      "Fit time          0.14    0.16    0.16    0.16    0.16    0.16    0.01    \n",
      "Test time         1.01    1.18    1.05    1.02    1.05    1.06    0.06    \n"
     ]
    },
    {
     "data": {
      "text/plain": [
       "{'test_rmse': array([0.95100519, 0.94798319, 0.94391183, 0.94468019, 0.94606466]),\n",
       " 'test_mae': array([0.72777025, 0.72647637, 0.72320837, 0.72681736, 0.72517274]),\n",
       " 'fit_time': (0.136000394821167,\n",
       "  0.1619577407836914,\n",
       "  0.16296648979187012,\n",
       "  0.15599393844604492,\n",
       "  0.15899944305419922),\n",
       " 'test_time': (1.0070018768310547,\n",
       "  1.1770336627960205,\n",
       "  1.0530309677124023,\n",
       "  1.0190062522888184,\n",
       "  1.0499680042266846)}"
      ]
     },
     "execution_count": 297,
     "metadata": {},
     "output_type": "execute_result"
    }
   ],
   "source": [
    "cross_validate(KNN_model, data, verbose= True)"
   ]
  },
  {
   "cell_type": "markdown",
   "metadata": {},
   "source": [
    "I found the 5 closest users to user 43 and the movies that were recommended from these users as similar to the movie, \"Toy Story.\" Most of the movie recommendations from this system were movies released around the same year as \"Toy Story\" that had high ratings."
   ]
  },
  {
   "cell_type": "code",
   "execution_count": null,
   "metadata": {},
   "outputs": [],
   "source": [
    "user=43\n",
    "item= 1"
   ]
  },
  {
   "cell_type": "code",
   "execution_count": 298,
   "metadata": {},
   "outputs": [
    {
     "data": {
      "text/plain": [
       "[48, 552, 542, 12, 276]"
      ]
     },
     "execution_count": 298,
     "metadata": {},
     "output_type": "execute_result"
    }
   ],
   "source": [
    "KNN_model.get_neighbors(iid=item, k=5)"
   ]
  },
  {
   "cell_type": "code",
   "execution_count": 299,
   "metadata": {
    "scrolled": true
   },
   "outputs": [
    {
     "data": {
      "text/html": [
       "<div>\n",
       "<style scoped>\n",
       "    .dataframe tbody tr th:only-of-type {\n",
       "        vertical-align: middle;\n",
       "    }\n",
       "\n",
       "    .dataframe tbody tr th {\n",
       "        vertical-align: top;\n",
       "    }\n",
       "\n",
       "    .dataframe thead th {\n",
       "        text-align: right;\n",
       "    }\n",
       "</style>\n",
       "<table border=\"1\" class=\"dataframe\">\n",
       "  <thead>\n",
       "    <tr style=\"text-align: right;\">\n",
       "      <th></th>\n",
       "      <th>userId</th>\n",
       "      <th>movieId</th>\n",
       "      <th>rating</th>\n",
       "      <th>timestamp</th>\n",
       "      <th>title</th>\n",
       "      <th>genres</th>\n",
       "    </tr>\n",
       "  </thead>\n",
       "  <tbody>\n",
       "    <tr>\n",
       "      <th>5356</th>\n",
       "      <td>48</td>\n",
       "      <td>780</td>\n",
       "      <td>3.5</td>\n",
       "      <td>1127128851</td>\n",
       "      <td>Independence Day (a.k.a. ID4) (1996)</td>\n",
       "      <td>Action|Adventure|Sci-Fi|Thriller</td>\n",
       "    </tr>\n",
       "    <tr>\n",
       "      <th>9706</th>\n",
       "      <td>48</td>\n",
       "      <td>1580</td>\n",
       "      <td>5.0</td>\n",
       "      <td>1127128859</td>\n",
       "      <td>Men in Black (a.k.a. MIB) (1997)</td>\n",
       "      <td>Action|Comedy|Sci-Fi</td>\n",
       "    </tr>\n",
       "    <tr>\n",
       "      <th>10004</th>\n",
       "      <td>48</td>\n",
       "      <td>1625</td>\n",
       "      <td>4.5</td>\n",
       "      <td>1127128739</td>\n",
       "      <td>Game, The (1997)</td>\n",
       "      <td>Drama|Mystery|Thriller</td>\n",
       "    </tr>\n",
       "    <tr>\n",
       "      <th>11302</th>\n",
       "      <td>48</td>\n",
       "      <td>2115</td>\n",
       "      <td>5.0</td>\n",
       "      <td>1127128639</td>\n",
       "      <td>Indiana Jones and the Temple of Doom (1984)</td>\n",
       "      <td>Action|Adventure|Fantasy</td>\n",
       "    </tr>\n",
       "    <tr>\n",
       "      <th>12013</th>\n",
       "      <td>48</td>\n",
       "      <td>2353</td>\n",
       "      <td>3.0</td>\n",
       "      <td>1127128708</td>\n",
       "      <td>Enemy of the State (1998)</td>\n",
       "      <td>Action|Thriller</td>\n",
       "    </tr>\n",
       "  </tbody>\n",
       "</table>\n",
       "</div>"
      ],
      "text/plain": [
       "       userId  movieId  rating   timestamp  \\\n",
       "5356       48      780     3.5  1127128851   \n",
       "9706       48     1580     5.0  1127128859   \n",
       "10004      48     1625     4.5  1127128739   \n",
       "11302      48     2115     5.0  1127128639   \n",
       "12013      48     2353     3.0  1127128708   \n",
       "\n",
       "                                             title  \\\n",
       "5356          Independence Day (a.k.a. ID4) (1996)   \n",
       "9706              Men in Black (a.k.a. MIB) (1997)   \n",
       "10004                             Game, The (1997)   \n",
       "11302  Indiana Jones and the Temple of Doom (1984)   \n",
       "12013                    Enemy of the State (1998)   \n",
       "\n",
       "                                 genres  \n",
       "5356   Action|Adventure|Sci-Fi|Thriller  \n",
       "9706               Action|Comedy|Sci-Fi  \n",
       "10004            Drama|Mystery|Thriller  \n",
       "11302          Action|Adventure|Fantasy  \n",
       "12013                   Action|Thriller  "
      ]
     },
     "execution_count": 299,
     "metadata": {},
     "output_type": "execute_result"
    }
   ],
   "source": [
    "movie_data.loc[movie_data['userId']==48].head()"
   ]
  },
  {
   "cell_type": "code",
   "execution_count": 300,
   "metadata": {
    "scrolled": true
   },
   "outputs": [
    {
     "data": {
      "text/html": [
       "<div>\n",
       "<style scoped>\n",
       "    .dataframe tbody tr th:only-of-type {\n",
       "        vertical-align: middle;\n",
       "    }\n",
       "\n",
       "    .dataframe tbody tr th {\n",
       "        vertical-align: top;\n",
       "    }\n",
       "\n",
       "    .dataframe thead th {\n",
       "        text-align: right;\n",
       "    }\n",
       "</style>\n",
       "<table border=\"1\" class=\"dataframe\">\n",
       "  <thead>\n",
       "    <tr style=\"text-align: right;\">\n",
       "      <th></th>\n",
       "      <th>userId</th>\n",
       "      <th>movieId</th>\n",
       "      <th>rating</th>\n",
       "      <th>timestamp</th>\n",
       "      <th>title</th>\n",
       "      <th>genres</th>\n",
       "    </tr>\n",
       "  </thead>\n",
       "  <tbody>\n",
       "    <tr>\n",
       "      <th>260</th>\n",
       "      <td>552</td>\n",
       "      <td>3</td>\n",
       "      <td>1.0</td>\n",
       "      <td>1111472953</td>\n",
       "      <td>Grumpier Old Men (1995)</td>\n",
       "      <td>Comedy|Romance</td>\n",
       "    </tr>\n",
       "    <tr>\n",
       "      <th>1558</th>\n",
       "      <td>552</td>\n",
       "      <td>235</td>\n",
       "      <td>4.0</td>\n",
       "      <td>1111472950</td>\n",
       "      <td>Ed Wood (1994)</td>\n",
       "      <td>Comedy|Drama</td>\n",
       "    </tr>\n",
       "    <tr>\n",
       "      <th>2091</th>\n",
       "      <td>552</td>\n",
       "      <td>296</td>\n",
       "      <td>4.0</td>\n",
       "      <td>1111473067</td>\n",
       "      <td>Pulp Fiction (1994)</td>\n",
       "      <td>Comedy|Crime|Drama|Thriller</td>\n",
       "    </tr>\n",
       "    <tr>\n",
       "      <th>2715</th>\n",
       "      <td>552</td>\n",
       "      <td>356</td>\n",
       "      <td>4.0</td>\n",
       "      <td>1111473075</td>\n",
       "      <td>Forrest Gump (1994)</td>\n",
       "      <td>Comedy|Drama|Romance|War</td>\n",
       "    </tr>\n",
       "    <tr>\n",
       "      <th>3763</th>\n",
       "      <td>552</td>\n",
       "      <td>527</td>\n",
       "      <td>4.0</td>\n",
       "      <td>1112151215</td>\n",
       "      <td>Schindler's List (1993)</td>\n",
       "      <td>Drama|War</td>\n",
       "    </tr>\n",
       "  </tbody>\n",
       "</table>\n",
       "</div>"
      ],
      "text/plain": [
       "      userId  movieId  rating   timestamp                    title  \\\n",
       "260      552        3     1.0  1111472953  Grumpier Old Men (1995)   \n",
       "1558     552      235     4.0  1111472950           Ed Wood (1994)   \n",
       "2091     552      296     4.0  1111473067      Pulp Fiction (1994)   \n",
       "2715     552      356     4.0  1111473075      Forrest Gump (1994)   \n",
       "3763     552      527     4.0  1112151215  Schindler's List (1993)   \n",
       "\n",
       "                           genres  \n",
       "260                Comedy|Romance  \n",
       "1558                 Comedy|Drama  \n",
       "2091  Comedy|Crime|Drama|Thriller  \n",
       "2715     Comedy|Drama|Romance|War  \n",
       "3763                    Drama|War  "
      ]
     },
     "execution_count": 300,
     "metadata": {},
     "output_type": "execute_result"
    }
   ],
   "source": [
    "movie_data.loc[movie_data['userId']==552].head()"
   ]
  },
  {
   "cell_type": "code",
   "execution_count": 301,
   "metadata": {},
   "outputs": [
    {
     "data": {
      "text/html": [
       "<div>\n",
       "<style scoped>\n",
       "    .dataframe tbody tr th:only-of-type {\n",
       "        vertical-align: middle;\n",
       "    }\n",
       "\n",
       "    .dataframe tbody tr th {\n",
       "        vertical-align: top;\n",
       "    }\n",
       "\n",
       "    .dataframe thead th {\n",
       "        text-align: right;\n",
       "    }\n",
       "</style>\n",
       "<table border=\"1\" class=\"dataframe\">\n",
       "  <thead>\n",
       "    <tr style=\"text-align: right;\">\n",
       "      <th></th>\n",
       "      <th>userId</th>\n",
       "      <th>movieId</th>\n",
       "      <th>rating</th>\n",
       "      <th>timestamp</th>\n",
       "      <th>title</th>\n",
       "      <th>genres</th>\n",
       "    </tr>\n",
       "  </thead>\n",
       "  <tbody>\n",
       "    <tr>\n",
       "      <th>552</th>\n",
       "      <td>542</td>\n",
       "      <td>47</td>\n",
       "      <td>5.0</td>\n",
       "      <td>1163386913</td>\n",
       "      <td>Seven (a.k.a. Se7en) (1995)</td>\n",
       "      <td>Mystery|Thriller</td>\n",
       "    </tr>\n",
       "    <tr>\n",
       "      <th>2089</th>\n",
       "      <td>542</td>\n",
       "      <td>296</td>\n",
       "      <td>3.5</td>\n",
       "      <td>1163386827</td>\n",
       "      <td>Pulp Fiction (1994)</td>\n",
       "      <td>Comedy|Crime|Drama|Thriller</td>\n",
       "    </tr>\n",
       "    <tr>\n",
       "      <th>2710</th>\n",
       "      <td>542</td>\n",
       "      <td>356</td>\n",
       "      <td>5.0</td>\n",
       "      <td>1163386930</td>\n",
       "      <td>Forrest Gump (1994)</td>\n",
       "      <td>Comedy|Drama|Romance|War</td>\n",
       "    </tr>\n",
       "    <tr>\n",
       "      <th>3551</th>\n",
       "      <td>542</td>\n",
       "      <td>500</td>\n",
       "      <td>3.5</td>\n",
       "      <td>1163387264</td>\n",
       "      <td>Mrs. Doubtfire (1993)</td>\n",
       "      <td>Comedy|Drama</td>\n",
       "    </tr>\n",
       "    <tr>\n",
       "      <th>4639</th>\n",
       "      <td>542</td>\n",
       "      <td>596</td>\n",
       "      <td>4.5</td>\n",
       "      <td>1163386606</td>\n",
       "      <td>Pinocchio (1940)</td>\n",
       "      <td>Animation|Children|Fantasy|Musical</td>\n",
       "    </tr>\n",
       "  </tbody>\n",
       "</table>\n",
       "</div>"
      ],
      "text/plain": [
       "      userId  movieId  rating   timestamp                        title  \\\n",
       "552      542       47     5.0  1163386913  Seven (a.k.a. Se7en) (1995)   \n",
       "2089     542      296     3.5  1163386827          Pulp Fiction (1994)   \n",
       "2710     542      356     5.0  1163386930          Forrest Gump (1994)   \n",
       "3551     542      500     3.5  1163387264        Mrs. Doubtfire (1993)   \n",
       "4639     542      596     4.5  1163386606             Pinocchio (1940)   \n",
       "\n",
       "                                  genres  \n",
       "552                     Mystery|Thriller  \n",
       "2089         Comedy|Crime|Drama|Thriller  \n",
       "2710            Comedy|Drama|Romance|War  \n",
       "3551                        Comedy|Drama  \n",
       "4639  Animation|Children|Fantasy|Musical  "
      ]
     },
     "execution_count": 301,
     "metadata": {},
     "output_type": "execute_result"
    }
   ],
   "source": [
    "movie_data.loc[movie_data['userId']==542].head()"
   ]
  },
  {
   "cell_type": "code",
   "execution_count": 302,
   "metadata": {
    "scrolled": true
   },
   "outputs": [
    {
     "data": {
      "text/html": [
       "<div>\n",
       "<style scoped>\n",
       "    .dataframe tbody tr th:only-of-type {\n",
       "        vertical-align: middle;\n",
       "    }\n",
       "\n",
       "    .dataframe tbody tr th {\n",
       "        vertical-align: top;\n",
       "    }\n",
       "\n",
       "    .dataframe thead th {\n",
       "        text-align: right;\n",
       "    }\n",
       "</style>\n",
       "<table border=\"1\" class=\"dataframe\">\n",
       "  <thead>\n",
       "    <tr style=\"text-align: right;\">\n",
       "      <th></th>\n",
       "      <th>userId</th>\n",
       "      <th>movieId</th>\n",
       "      <th>rating</th>\n",
       "      <th>timestamp</th>\n",
       "      <th>title</th>\n",
       "      <th>genres</th>\n",
       "    </tr>\n",
       "  </thead>\n",
       "  <tbody>\n",
       "    <tr>\n",
       "      <th>3792</th>\n",
       "      <td>12</td>\n",
       "      <td>543</td>\n",
       "      <td>3.5</td>\n",
       "      <td>1247263318</td>\n",
       "      <td>So I Married an Axe Murderer (1993)</td>\n",
       "      <td>Comedy|Romance|Thriller</td>\n",
       "    </tr>\n",
       "    <tr>\n",
       "      <th>8584</th>\n",
       "      <td>12</td>\n",
       "      <td>1265</td>\n",
       "      <td>3.5</td>\n",
       "      <td>1247264118</td>\n",
       "      <td>Groundhog Day (1993)</td>\n",
       "      <td>Comedy|Fantasy|Romance</td>\n",
       "    </tr>\n",
       "    <tr>\n",
       "      <th>19306</th>\n",
       "      <td>12</td>\n",
       "      <td>222</td>\n",
       "      <td>5.0</td>\n",
       "      <td>1247263465</td>\n",
       "      <td>Circle of Friends (1995)</td>\n",
       "      <td>Drama|Romance</td>\n",
       "    </tr>\n",
       "    <tr>\n",
       "      <th>19528</th>\n",
       "      <td>12</td>\n",
       "      <td>357</td>\n",
       "      <td>3.5</td>\n",
       "      <td>1247264106</td>\n",
       "      <td>Four Weddings and a Funeral (1994)</td>\n",
       "      <td>Comedy|Romance</td>\n",
       "    </tr>\n",
       "    <tr>\n",
       "      <th>20776</th>\n",
       "      <td>12</td>\n",
       "      <td>920</td>\n",
       "      <td>4.5</td>\n",
       "      <td>1247264114</td>\n",
       "      <td>Gone with the Wind (1939)</td>\n",
       "      <td>Drama|Romance|War</td>\n",
       "    </tr>\n",
       "  </tbody>\n",
       "</table>\n",
       "</div>"
      ],
      "text/plain": [
       "       userId  movieId  rating   timestamp  \\\n",
       "3792       12      543     3.5  1247263318   \n",
       "8584       12     1265     3.5  1247264118   \n",
       "19306      12      222     5.0  1247263465   \n",
       "19528      12      357     3.5  1247264106   \n",
       "20776      12      920     4.5  1247264114   \n",
       "\n",
       "                                     title                   genres  \n",
       "3792   So I Married an Axe Murderer (1993)  Comedy|Romance|Thriller  \n",
       "8584                  Groundhog Day (1993)   Comedy|Fantasy|Romance  \n",
       "19306             Circle of Friends (1995)            Drama|Romance  \n",
       "19528   Four Weddings and a Funeral (1994)           Comedy|Romance  \n",
       "20776            Gone with the Wind (1939)        Drama|Romance|War  "
      ]
     },
     "execution_count": 302,
     "metadata": {},
     "output_type": "execute_result"
    }
   ],
   "source": [
    "movie_data.loc[movie_data['userId']==12].head()"
   ]
  },
  {
   "cell_type": "code",
   "execution_count": 303,
   "metadata": {
    "scrolled": true
   },
   "outputs": [
    {
     "data": {
      "text/html": [
       "<div>\n",
       "<style scoped>\n",
       "    .dataframe tbody tr th:only-of-type {\n",
       "        vertical-align: middle;\n",
       "    }\n",
       "\n",
       "    .dataframe tbody tr th {\n",
       "        vertical-align: top;\n",
       "    }\n",
       "\n",
       "    .dataframe thead th {\n",
       "        text-align: right;\n",
       "    }\n",
       "</style>\n",
       "<table border=\"1\" class=\"dataframe\">\n",
       "  <thead>\n",
       "    <tr style=\"text-align: right;\">\n",
       "      <th></th>\n",
       "      <th>userId</th>\n",
       "      <th>movieId</th>\n",
       "      <th>rating</th>\n",
       "      <th>timestamp</th>\n",
       "      <th>title</th>\n",
       "      <th>genres</th>\n",
       "    </tr>\n",
       "  </thead>\n",
       "  <tbody>\n",
       "    <tr>\n",
       "      <th>100</th>\n",
       "      <td>276</td>\n",
       "      <td>1</td>\n",
       "      <td>4.0</td>\n",
       "      <td>858350384</td>\n",
       "      <td>Toy Story (1995)</td>\n",
       "      <td>Adventure|Animation|Children|Comedy|Fantasy</td>\n",
       "    </tr>\n",
       "    <tr>\n",
       "      <th>1422</th>\n",
       "      <td>276</td>\n",
       "      <td>231</td>\n",
       "      <td>4.0</td>\n",
       "      <td>858351184</td>\n",
       "      <td>Dumb &amp; Dumber (Dumb and Dumber) (1994)</td>\n",
       "      <td>Adventure|Comedy</td>\n",
       "    </tr>\n",
       "    <tr>\n",
       "      <th>1682</th>\n",
       "      <td>276</td>\n",
       "      <td>260</td>\n",
       "      <td>5.0</td>\n",
       "      <td>858350672</td>\n",
       "      <td>Star Wars: Episode IV - A New Hope (1977)</td>\n",
       "      <td>Action|Adventure|Sci-Fi</td>\n",
       "    </tr>\n",
       "    <tr>\n",
       "      <th>2290</th>\n",
       "      <td>276</td>\n",
       "      <td>333</td>\n",
       "      <td>5.0</td>\n",
       "      <td>858351214</td>\n",
       "      <td>Tommy Boy (1995)</td>\n",
       "      <td>Comedy</td>\n",
       "    </tr>\n",
       "    <tr>\n",
       "      <th>2571</th>\n",
       "      <td>276</td>\n",
       "      <td>356</td>\n",
       "      <td>5.0</td>\n",
       "      <td>858351182</td>\n",
       "      <td>Forrest Gump (1994)</td>\n",
       "      <td>Comedy|Drama|Romance|War</td>\n",
       "    </tr>\n",
       "  </tbody>\n",
       "</table>\n",
       "</div>"
      ],
      "text/plain": [
       "      userId  movieId  rating  timestamp  \\\n",
       "100      276        1     4.0  858350384   \n",
       "1422     276      231     4.0  858351184   \n",
       "1682     276      260     5.0  858350672   \n",
       "2290     276      333     5.0  858351214   \n",
       "2571     276      356     5.0  858351182   \n",
       "\n",
       "                                          title  \\\n",
       "100                            Toy Story (1995)   \n",
       "1422     Dumb & Dumber (Dumb and Dumber) (1994)   \n",
       "1682  Star Wars: Episode IV - A New Hope (1977)   \n",
       "2290                           Tommy Boy (1995)   \n",
       "2571                        Forrest Gump (1994)   \n",
       "\n",
       "                                           genres  \n",
       "100   Adventure|Animation|Children|Comedy|Fantasy  \n",
       "1422                             Adventure|Comedy  \n",
       "1682                      Action|Adventure|Sci-Fi  \n",
       "2290                                       Comedy  \n",
       "2571                     Comedy|Drama|Romance|War  "
      ]
     },
     "execution_count": 303,
     "metadata": {},
     "output_type": "execute_result"
    }
   ],
   "source": [
    "movie_data.loc[movie_data['userId']==276].head()"
   ]
  },
  {
   "cell_type": "markdown",
   "metadata": {},
   "source": [
    "### Recommendation System 3: Function-Based"
   ]
  },
  {
   "cell_type": "markdown",
   "metadata": {},
   "source": [
    "After finishing my first recommendation system, I created a third recommendation system using a function-based method with a Euclidean distance metric to calculate user similarities"
   ]
  },
  {
   "cell_type": "markdown",
   "metadata": {},
   "source": [
    "The user_ratings dataframe rotates the movieId column to a row and includes all the ratings from users on movies in the dataset."
   ]
  },
  {
   "cell_type": "code",
   "execution_count": 40,
   "metadata": {},
   "outputs": [
    {
     "data": {
      "text/html": [
       "<div>\n",
       "<style scoped>\n",
       "    .dataframe tbody tr th:only-of-type {\n",
       "        vertical-align: middle;\n",
       "    }\n",
       "\n",
       "    .dataframe tbody tr th {\n",
       "        vertical-align: top;\n",
       "    }\n",
       "\n",
       "    .dataframe thead th {\n",
       "        text-align: right;\n",
       "    }\n",
       "</style>\n",
       "<table border=\"1\" class=\"dataframe\">\n",
       "  <thead>\n",
       "    <tr style=\"text-align: right;\">\n",
       "      <th>movieId</th>\n",
       "      <th>1</th>\n",
       "      <th>2</th>\n",
       "      <th>3</th>\n",
       "      <th>4</th>\n",
       "      <th>5</th>\n",
       "      <th>6</th>\n",
       "      <th>7</th>\n",
       "      <th>8</th>\n",
       "      <th>9</th>\n",
       "      <th>10</th>\n",
       "      <th>...</th>\n",
       "      <th>193565</th>\n",
       "      <th>193567</th>\n",
       "      <th>193571</th>\n",
       "      <th>193573</th>\n",
       "      <th>193579</th>\n",
       "      <th>193581</th>\n",
       "      <th>193583</th>\n",
       "      <th>193585</th>\n",
       "      <th>193587</th>\n",
       "      <th>193609</th>\n",
       "    </tr>\n",
       "    <tr>\n",
       "      <th>userId</th>\n",
       "      <th></th>\n",
       "      <th></th>\n",
       "      <th></th>\n",
       "      <th></th>\n",
       "      <th></th>\n",
       "      <th></th>\n",
       "      <th></th>\n",
       "      <th></th>\n",
       "      <th></th>\n",
       "      <th></th>\n",
       "      <th></th>\n",
       "      <th></th>\n",
       "      <th></th>\n",
       "      <th></th>\n",
       "      <th></th>\n",
       "      <th></th>\n",
       "      <th></th>\n",
       "      <th></th>\n",
       "      <th></th>\n",
       "      <th></th>\n",
       "      <th></th>\n",
       "    </tr>\n",
       "  </thead>\n",
       "  <tbody>\n",
       "    <tr>\n",
       "      <th>1</th>\n",
       "      <td>4.0</td>\n",
       "      <td>NaN</td>\n",
       "      <td>4.0</td>\n",
       "      <td>NaN</td>\n",
       "      <td>NaN</td>\n",
       "      <td>4.0</td>\n",
       "      <td>NaN</td>\n",
       "      <td>NaN</td>\n",
       "      <td>NaN</td>\n",
       "      <td>NaN</td>\n",
       "      <td>...</td>\n",
       "      <td>NaN</td>\n",
       "      <td>NaN</td>\n",
       "      <td>NaN</td>\n",
       "      <td>NaN</td>\n",
       "      <td>NaN</td>\n",
       "      <td>NaN</td>\n",
       "      <td>NaN</td>\n",
       "      <td>NaN</td>\n",
       "      <td>NaN</td>\n",
       "      <td>NaN</td>\n",
       "    </tr>\n",
       "    <tr>\n",
       "      <th>2</th>\n",
       "      <td>NaN</td>\n",
       "      <td>NaN</td>\n",
       "      <td>NaN</td>\n",
       "      <td>NaN</td>\n",
       "      <td>NaN</td>\n",
       "      <td>NaN</td>\n",
       "      <td>NaN</td>\n",
       "      <td>NaN</td>\n",
       "      <td>NaN</td>\n",
       "      <td>NaN</td>\n",
       "      <td>...</td>\n",
       "      <td>NaN</td>\n",
       "      <td>NaN</td>\n",
       "      <td>NaN</td>\n",
       "      <td>NaN</td>\n",
       "      <td>NaN</td>\n",
       "      <td>NaN</td>\n",
       "      <td>NaN</td>\n",
       "      <td>NaN</td>\n",
       "      <td>NaN</td>\n",
       "      <td>NaN</td>\n",
       "    </tr>\n",
       "    <tr>\n",
       "      <th>3</th>\n",
       "      <td>NaN</td>\n",
       "      <td>NaN</td>\n",
       "      <td>NaN</td>\n",
       "      <td>NaN</td>\n",
       "      <td>NaN</td>\n",
       "      <td>NaN</td>\n",
       "      <td>NaN</td>\n",
       "      <td>NaN</td>\n",
       "      <td>NaN</td>\n",
       "      <td>NaN</td>\n",
       "      <td>...</td>\n",
       "      <td>NaN</td>\n",
       "      <td>NaN</td>\n",
       "      <td>NaN</td>\n",
       "      <td>NaN</td>\n",
       "      <td>NaN</td>\n",
       "      <td>NaN</td>\n",
       "      <td>NaN</td>\n",
       "      <td>NaN</td>\n",
       "      <td>NaN</td>\n",
       "      <td>NaN</td>\n",
       "    </tr>\n",
       "    <tr>\n",
       "      <th>4</th>\n",
       "      <td>NaN</td>\n",
       "      <td>NaN</td>\n",
       "      <td>NaN</td>\n",
       "      <td>NaN</td>\n",
       "      <td>NaN</td>\n",
       "      <td>NaN</td>\n",
       "      <td>NaN</td>\n",
       "      <td>NaN</td>\n",
       "      <td>NaN</td>\n",
       "      <td>NaN</td>\n",
       "      <td>...</td>\n",
       "      <td>NaN</td>\n",
       "      <td>NaN</td>\n",
       "      <td>NaN</td>\n",
       "      <td>NaN</td>\n",
       "      <td>NaN</td>\n",
       "      <td>NaN</td>\n",
       "      <td>NaN</td>\n",
       "      <td>NaN</td>\n",
       "      <td>NaN</td>\n",
       "      <td>NaN</td>\n",
       "    </tr>\n",
       "    <tr>\n",
       "      <th>5</th>\n",
       "      <td>4.0</td>\n",
       "      <td>NaN</td>\n",
       "      <td>NaN</td>\n",
       "      <td>NaN</td>\n",
       "      <td>NaN</td>\n",
       "      <td>NaN</td>\n",
       "      <td>NaN</td>\n",
       "      <td>NaN</td>\n",
       "      <td>NaN</td>\n",
       "      <td>NaN</td>\n",
       "      <td>...</td>\n",
       "      <td>NaN</td>\n",
       "      <td>NaN</td>\n",
       "      <td>NaN</td>\n",
       "      <td>NaN</td>\n",
       "      <td>NaN</td>\n",
       "      <td>NaN</td>\n",
       "      <td>NaN</td>\n",
       "      <td>NaN</td>\n",
       "      <td>NaN</td>\n",
       "      <td>NaN</td>\n",
       "    </tr>\n",
       "  </tbody>\n",
       "</table>\n",
       "<p>5 rows × 9724 columns</p>\n",
       "</div>"
      ],
      "text/plain": [
       "movieId  1       2       3       4       5       6       7       8       \\\n",
       "userId                                                                    \n",
       "1           4.0     NaN     4.0     NaN     NaN     4.0     NaN     NaN   \n",
       "2           NaN     NaN     NaN     NaN     NaN     NaN     NaN     NaN   \n",
       "3           NaN     NaN     NaN     NaN     NaN     NaN     NaN     NaN   \n",
       "4           NaN     NaN     NaN     NaN     NaN     NaN     NaN     NaN   \n",
       "5           4.0     NaN     NaN     NaN     NaN     NaN     NaN     NaN   \n",
       "\n",
       "movieId  9       10      ...  193565  193567  193571  193573  193579  193581  \\\n",
       "userId                   ...                                                   \n",
       "1           NaN     NaN  ...     NaN     NaN     NaN     NaN     NaN     NaN   \n",
       "2           NaN     NaN  ...     NaN     NaN     NaN     NaN     NaN     NaN   \n",
       "3           NaN     NaN  ...     NaN     NaN     NaN     NaN     NaN     NaN   \n",
       "4           NaN     NaN  ...     NaN     NaN     NaN     NaN     NaN     NaN   \n",
       "5           NaN     NaN  ...     NaN     NaN     NaN     NaN     NaN     NaN   \n",
       "\n",
       "movieId  193583  193585  193587  193609  \n",
       "userId                                   \n",
       "1           NaN     NaN     NaN     NaN  \n",
       "2           NaN     NaN     NaN     NaN  \n",
       "3           NaN     NaN     NaN     NaN  \n",
       "4           NaN     NaN     NaN     NaN  \n",
       "5           NaN     NaN     NaN     NaN  \n",
       "\n",
       "[5 rows x 9724 columns]"
      ]
     },
     "execution_count": 40,
     "metadata": {},
     "output_type": "execute_result"
    }
   ],
   "source": [
    "user_ratings = df.pivot(index='userId', columns='movieId', values='rating')\n",
    "user_ratings.head()"
   ]
  },
  {
   "cell_type": "markdown",
   "metadata": {},
   "source": [
    "I filled in all the null value columns with the mean value for each column to provide basic ratings for all users on all movies."
   ]
  },
  {
   "cell_type": "code",
   "execution_count": 41,
   "metadata": {},
   "outputs": [
    {
     "data": {
      "text/html": [
       "<div>\n",
       "<style scoped>\n",
       "    .dataframe tbody tr th:only-of-type {\n",
       "        vertical-align: middle;\n",
       "    }\n",
       "\n",
       "    .dataframe tbody tr th {\n",
       "        vertical-align: top;\n",
       "    }\n",
       "\n",
       "    .dataframe thead th {\n",
       "        text-align: right;\n",
       "    }\n",
       "</style>\n",
       "<table border=\"1\" class=\"dataframe\">\n",
       "  <thead>\n",
       "    <tr style=\"text-align: right;\">\n",
       "      <th>movieId</th>\n",
       "      <th>1</th>\n",
       "      <th>2</th>\n",
       "      <th>3</th>\n",
       "      <th>4</th>\n",
       "      <th>5</th>\n",
       "      <th>6</th>\n",
       "      <th>7</th>\n",
       "      <th>8</th>\n",
       "      <th>9</th>\n",
       "      <th>10</th>\n",
       "      <th>...</th>\n",
       "      <th>193565</th>\n",
       "      <th>193567</th>\n",
       "      <th>193571</th>\n",
       "      <th>193573</th>\n",
       "      <th>193579</th>\n",
       "      <th>193581</th>\n",
       "      <th>193583</th>\n",
       "      <th>193585</th>\n",
       "      <th>193587</th>\n",
       "      <th>193609</th>\n",
       "    </tr>\n",
       "    <tr>\n",
       "      <th>userId</th>\n",
       "      <th></th>\n",
       "      <th></th>\n",
       "      <th></th>\n",
       "      <th></th>\n",
       "      <th></th>\n",
       "      <th></th>\n",
       "      <th></th>\n",
       "      <th></th>\n",
       "      <th></th>\n",
       "      <th></th>\n",
       "      <th></th>\n",
       "      <th></th>\n",
       "      <th></th>\n",
       "      <th></th>\n",
       "      <th></th>\n",
       "      <th></th>\n",
       "      <th></th>\n",
       "      <th></th>\n",
       "      <th></th>\n",
       "      <th></th>\n",
       "      <th></th>\n",
       "    </tr>\n",
       "  </thead>\n",
       "  <tbody>\n",
       "    <tr>\n",
       "      <th>1</th>\n",
       "      <td>4.00000</td>\n",
       "      <td>3.431818</td>\n",
       "      <td>4.000000</td>\n",
       "      <td>2.357143</td>\n",
       "      <td>3.071429</td>\n",
       "      <td>4.000000</td>\n",
       "      <td>3.185185</td>\n",
       "      <td>2.875</td>\n",
       "      <td>3.125</td>\n",
       "      <td>3.496212</td>\n",
       "      <td>...</td>\n",
       "      <td>3.5</td>\n",
       "      <td>3.0</td>\n",
       "      <td>4.0</td>\n",
       "      <td>4.0</td>\n",
       "      <td>3.5</td>\n",
       "      <td>4.0</td>\n",
       "      <td>3.5</td>\n",
       "      <td>3.5</td>\n",
       "      <td>3.5</td>\n",
       "      <td>4.0</td>\n",
       "    </tr>\n",
       "    <tr>\n",
       "      <th>2</th>\n",
       "      <td>3.92093</td>\n",
       "      <td>3.431818</td>\n",
       "      <td>3.259615</td>\n",
       "      <td>2.357143</td>\n",
       "      <td>3.071429</td>\n",
       "      <td>3.946078</td>\n",
       "      <td>3.185185</td>\n",
       "      <td>2.875</td>\n",
       "      <td>3.125</td>\n",
       "      <td>3.496212</td>\n",
       "      <td>...</td>\n",
       "      <td>3.5</td>\n",
       "      <td>3.0</td>\n",
       "      <td>4.0</td>\n",
       "      <td>4.0</td>\n",
       "      <td>3.5</td>\n",
       "      <td>4.0</td>\n",
       "      <td>3.5</td>\n",
       "      <td>3.5</td>\n",
       "      <td>3.5</td>\n",
       "      <td>4.0</td>\n",
       "    </tr>\n",
       "    <tr>\n",
       "      <th>3</th>\n",
       "      <td>3.92093</td>\n",
       "      <td>3.431818</td>\n",
       "      <td>3.259615</td>\n",
       "      <td>2.357143</td>\n",
       "      <td>3.071429</td>\n",
       "      <td>3.946078</td>\n",
       "      <td>3.185185</td>\n",
       "      <td>2.875</td>\n",
       "      <td>3.125</td>\n",
       "      <td>3.496212</td>\n",
       "      <td>...</td>\n",
       "      <td>3.5</td>\n",
       "      <td>3.0</td>\n",
       "      <td>4.0</td>\n",
       "      <td>4.0</td>\n",
       "      <td>3.5</td>\n",
       "      <td>4.0</td>\n",
       "      <td>3.5</td>\n",
       "      <td>3.5</td>\n",
       "      <td>3.5</td>\n",
       "      <td>4.0</td>\n",
       "    </tr>\n",
       "    <tr>\n",
       "      <th>4</th>\n",
       "      <td>3.92093</td>\n",
       "      <td>3.431818</td>\n",
       "      <td>3.259615</td>\n",
       "      <td>2.357143</td>\n",
       "      <td>3.071429</td>\n",
       "      <td>3.946078</td>\n",
       "      <td>3.185185</td>\n",
       "      <td>2.875</td>\n",
       "      <td>3.125</td>\n",
       "      <td>3.496212</td>\n",
       "      <td>...</td>\n",
       "      <td>3.5</td>\n",
       "      <td>3.0</td>\n",
       "      <td>4.0</td>\n",
       "      <td>4.0</td>\n",
       "      <td>3.5</td>\n",
       "      <td>4.0</td>\n",
       "      <td>3.5</td>\n",
       "      <td>3.5</td>\n",
       "      <td>3.5</td>\n",
       "      <td>4.0</td>\n",
       "    </tr>\n",
       "    <tr>\n",
       "      <th>5</th>\n",
       "      <td>4.00000</td>\n",
       "      <td>3.431818</td>\n",
       "      <td>3.259615</td>\n",
       "      <td>2.357143</td>\n",
       "      <td>3.071429</td>\n",
       "      <td>3.946078</td>\n",
       "      <td>3.185185</td>\n",
       "      <td>2.875</td>\n",
       "      <td>3.125</td>\n",
       "      <td>3.496212</td>\n",
       "      <td>...</td>\n",
       "      <td>3.5</td>\n",
       "      <td>3.0</td>\n",
       "      <td>4.0</td>\n",
       "      <td>4.0</td>\n",
       "      <td>3.5</td>\n",
       "      <td>4.0</td>\n",
       "      <td>3.5</td>\n",
       "      <td>3.5</td>\n",
       "      <td>3.5</td>\n",
       "      <td>4.0</td>\n",
       "    </tr>\n",
       "  </tbody>\n",
       "</table>\n",
       "<p>5 rows × 9724 columns</p>\n",
       "</div>"
      ],
      "text/plain": [
       "movieId   1         2         3         4         5         6         7       \\\n",
       "userId                                                                         \n",
       "1        4.00000  3.431818  4.000000  2.357143  3.071429  4.000000  3.185185   \n",
       "2        3.92093  3.431818  3.259615  2.357143  3.071429  3.946078  3.185185   \n",
       "3        3.92093  3.431818  3.259615  2.357143  3.071429  3.946078  3.185185   \n",
       "4        3.92093  3.431818  3.259615  2.357143  3.071429  3.946078  3.185185   \n",
       "5        4.00000  3.431818  3.259615  2.357143  3.071429  3.946078  3.185185   \n",
       "\n",
       "movieId  8       9         10      ...  193565  193567  193571  193573  \\\n",
       "userId                             ...                                   \n",
       "1         2.875   3.125  3.496212  ...     3.5     3.0     4.0     4.0   \n",
       "2         2.875   3.125  3.496212  ...     3.5     3.0     4.0     4.0   \n",
       "3         2.875   3.125  3.496212  ...     3.5     3.0     4.0     4.0   \n",
       "4         2.875   3.125  3.496212  ...     3.5     3.0     4.0     4.0   \n",
       "5         2.875   3.125  3.496212  ...     3.5     3.0     4.0     4.0   \n",
       "\n",
       "movieId  193579  193581  193583  193585  193587  193609  \n",
       "userId                                                   \n",
       "1           3.5     4.0     3.5     3.5     3.5     4.0  \n",
       "2           3.5     4.0     3.5     3.5     3.5     4.0  \n",
       "3           3.5     4.0     3.5     3.5     3.5     4.0  \n",
       "4           3.5     4.0     3.5     3.5     3.5     4.0  \n",
       "5           3.5     4.0     3.5     3.5     3.5     4.0  \n",
       "\n",
       "[5 rows x 9724 columns]"
      ]
     },
     "execution_count": 41,
     "metadata": {},
     "output_type": "execute_result"
    }
   ],
   "source": [
    "for col in user_ratings:\n",
    "    mean = user_ratings[col].mean()\n",
    "    user_ratings[col] = user_ratings[col].fillna(value=mean)\n",
    "user_ratings.head()"
   ]
  },
  {
   "cell_type": "markdown",
   "metadata": {},
   "source": [
    "I calculated the euclidean distance for two users with an item to see their similarity distance."
   ]
  },
  {
   "cell_type": "code",
   "execution_count": 42,
   "metadata": {},
   "outputs": [
    {
     "data": {
      "text/plain": [
       "14.6240105350213"
      ]
     },
     "execution_count": 42,
     "metadata": {},
     "output_type": "execute_result"
    }
   ],
   "source": [
    "u1 = user_ratings.iloc[1]\n",
    "u2 = user_ratings.iloc[2]\n",
    "def distance(v1,v2):\n",
    "    '''Returns euclidean distance between two values'''\n",
    "    return np.sqrt(np.sum((v1-v2)**2))\n",
    "distance(u1,u2)"
   ]
  },
  {
   "cell_type": "markdown",
   "metadata": {},
   "source": [
    "I created a dataframe that took in the similary rating distance between two users for all users on all items in the dataset."
   ]
  },
  {
   "cell_type": "code",
   "execution_count": 43,
   "metadata": {},
   "outputs": [],
   "source": [
    "user_matrix = []\n",
    "for i, row in enumerate(user_ratings.index):\n",
    "    '''Calculates the similarity rating distances between two users.\n",
    "    u1: \n",
    "        rating for user 1\n",
    "    u2: \n",
    "        rating for user 2\n",
    "    Returns: \n",
    "        similarity distances between two users\n",
    "    '''\n",
    "    u1 = user_ratings.iloc[i]\n",
    "    user_distances = [entry[i] for entry in user_matrix] \n",
    "    for j, row2 in enumerate(user_ratings.index[i:]):\n",
    "        u2 = user_ratings.iloc[j]\n",
    "        d = distance(u1,u2)\n",
    "        user_distances.append(d)\n",
    "    user_matrix.append(user_distances)\n",
    "user_similarities = pd.DataFrame(user_matrix)"
   ]
  },
  {
   "cell_type": "code",
   "execution_count": 44,
   "metadata": {
    "scrolled": true
   },
   "outputs": [
    {
     "data": {
      "text/html": [
       "<div>\n",
       "<style scoped>\n",
       "    .dataframe tbody tr th:only-of-type {\n",
       "        vertical-align: middle;\n",
       "    }\n",
       "\n",
       "    .dataframe tbody tr th {\n",
       "        vertical-align: top;\n",
       "    }\n",
       "\n",
       "    .dataframe thead th {\n",
       "        text-align: right;\n",
       "    }\n",
       "</style>\n",
       "<table border=\"1\" class=\"dataframe\">\n",
       "  <thead>\n",
       "    <tr style=\"text-align: right;\">\n",
       "      <th></th>\n",
       "      <th>0</th>\n",
       "      <th>1</th>\n",
       "      <th>2</th>\n",
       "      <th>3</th>\n",
       "      <th>4</th>\n",
       "      <th>5</th>\n",
       "      <th>6</th>\n",
       "      <th>7</th>\n",
       "      <th>8</th>\n",
       "      <th>9</th>\n",
       "      <th>...</th>\n",
       "      <th>600</th>\n",
       "      <th>601</th>\n",
       "      <th>602</th>\n",
       "      <th>603</th>\n",
       "      <th>604</th>\n",
       "      <th>605</th>\n",
       "      <th>606</th>\n",
       "      <th>607</th>\n",
       "      <th>608</th>\n",
       "      <th>609</th>\n",
       "    </tr>\n",
       "  </thead>\n",
       "  <tbody>\n",
       "    <tr>\n",
       "      <th>0</th>\n",
       "      <td>0.000000</td>\n",
       "      <td>16.989320</td>\n",
       "      <td>22.213995</td>\n",
       "      <td>24.351695</td>\n",
       "      <td>17.46949</td>\n",
       "      <td>22.135074</td>\n",
       "      <td>21.936764</td>\n",
       "      <td>17.423789</td>\n",
       "      <td>17.299122</td>\n",
       "      <td>22.290009</td>\n",
       "      <td>...</td>\n",
       "      <td>17.546982</td>\n",
       "      <td>19.660812</td>\n",
       "      <td>35.091126</td>\n",
       "      <td>18.537302</td>\n",
       "      <td>20.339939</td>\n",
       "      <td>25.228110</td>\n",
       "      <td>21.177022</td>\n",
       "      <td>32.501575</td>\n",
       "      <td>16.865820</td>\n",
       "      <td>27.115982</td>\n",
       "    </tr>\n",
       "    <tr>\n",
       "      <th>1</th>\n",
       "      <td>16.989320</td>\n",
       "      <td>16.989320</td>\n",
       "      <td>0.000000</td>\n",
       "      <td>14.624011</td>\n",
       "      <td>18.44075</td>\n",
       "      <td>6.789201</td>\n",
       "      <td>15.406643</td>\n",
       "      <td>14.706245</td>\n",
       "      <td>7.214758</td>\n",
       "      <td>6.795916</td>\n",
       "      <td>...</td>\n",
       "      <td>28.937392</td>\n",
       "      <td>7.665474</td>\n",
       "      <td>11.387603</td>\n",
       "      <td>29.941885</td>\n",
       "      <td>8.985898</td>\n",
       "      <td>11.496734</td>\n",
       "      <td>19.070503</td>\n",
       "      <td>14.427590</td>\n",
       "      <td>26.766173</td>\n",
       "      <td>4.907791</td>\n",
       "    </tr>\n",
       "    <tr>\n",
       "      <th>2</th>\n",
       "      <td>22.213995</td>\n",
       "      <td>0.000000</td>\n",
       "      <td>22.213995</td>\n",
       "      <td>14.624011</td>\n",
       "      <td>0.00000</td>\n",
       "      <td>22.964383</td>\n",
       "      <td>15.461842</td>\n",
       "      <td>20.324230</td>\n",
       "      <td>20.008624</td>\n",
       "      <td>15.469710</td>\n",
       "      <td>...</td>\n",
       "      <td>41.071666</td>\n",
       "      <td>31.578054</td>\n",
       "      <td>15.823685</td>\n",
       "      <td>17.750610</td>\n",
       "      <td>32.509412</td>\n",
       "      <td>16.243882</td>\n",
       "      <td>17.747057</td>\n",
       "      <td>24.051159</td>\n",
       "      <td>19.746626</td>\n",
       "      <td>29.904999</td>\n",
       "    </tr>\n",
       "    <tr>\n",
       "      <th>3</th>\n",
       "      <td>24.351695</td>\n",
       "      <td>14.624011</td>\n",
       "      <td>14.624011</td>\n",
       "      <td>24.351695</td>\n",
       "      <td>18.44075</td>\n",
       "      <td>22.964383</td>\n",
       "      <td>0.000000</td>\n",
       "      <td>19.221903</td>\n",
       "      <td>23.147269</td>\n",
       "      <td>22.088185</td>\n",
       "      <td>...</td>\n",
       "      <td>19.503345</td>\n",
       "      <td>42.827732</td>\n",
       "      <td>33.616709</td>\n",
       "      <td>19.525093</td>\n",
       "      <td>20.315157</td>\n",
       "      <td>34.904524</td>\n",
       "      <td>19.726633</td>\n",
       "      <td>20.614389</td>\n",
       "      <td>26.224825</td>\n",
       "      <td>22.527793</td>\n",
       "    </tr>\n",
       "    <tr>\n",
       "      <th>4</th>\n",
       "      <td>17.469490</td>\n",
       "      <td>18.440750</td>\n",
       "      <td>0.000000</td>\n",
       "      <td>18.440750</td>\n",
       "      <td>17.46949</td>\n",
       "      <td>6.789201</td>\n",
       "      <td>15.461842</td>\n",
       "      <td>19.221903</td>\n",
       "      <td>0.000000</td>\n",
       "      <td>15.998280</td>\n",
       "      <td>...</td>\n",
       "      <td>20.802612</td>\n",
       "      <td>9.876731</td>\n",
       "      <td>39.218073</td>\n",
       "      <td>29.115338</td>\n",
       "      <td>8.709706</td>\n",
       "      <td>12.472668</td>\n",
       "      <td>30.167581</td>\n",
       "      <td>10.146750</td>\n",
       "      <td>12.604886</td>\n",
       "      <td>19.602970</td>\n",
       "    </tr>\n",
       "  </tbody>\n",
       "</table>\n",
       "<p>5 rows × 610 columns</p>\n",
       "</div>"
      ],
      "text/plain": [
       "         0          1          2          3         4          5          6    \\\n",
       "0   0.000000  16.989320  22.213995  24.351695  17.46949  22.135074  21.936764   \n",
       "1  16.989320  16.989320   0.000000  14.624011  18.44075   6.789201  15.406643   \n",
       "2  22.213995   0.000000  22.213995  14.624011   0.00000  22.964383  15.461842   \n",
       "3  24.351695  14.624011  14.624011  24.351695  18.44075  22.964383   0.000000   \n",
       "4  17.469490  18.440750   0.000000  18.440750  17.46949   6.789201  15.461842   \n",
       "\n",
       "         7          8          9    ...        600        601        602  \\\n",
       "0  17.423789  17.299122  22.290009  ...  17.546982  19.660812  35.091126   \n",
       "1  14.706245   7.214758   6.795916  ...  28.937392   7.665474  11.387603   \n",
       "2  20.324230  20.008624  15.469710  ...  41.071666  31.578054  15.823685   \n",
       "3  19.221903  23.147269  22.088185  ...  19.503345  42.827732  33.616709   \n",
       "4  19.221903   0.000000  15.998280  ...  20.802612   9.876731  39.218073   \n",
       "\n",
       "         603        604        605        606        607        608        609  \n",
       "0  18.537302  20.339939  25.228110  21.177022  32.501575  16.865820  27.115982  \n",
       "1  29.941885   8.985898  11.496734  19.070503  14.427590  26.766173   4.907791  \n",
       "2  17.750610  32.509412  16.243882  17.747057  24.051159  19.746626  29.904999  \n",
       "3  19.525093  20.315157  34.904524  19.726633  20.614389  26.224825  22.527793  \n",
       "4  29.115338   8.709706  12.472668  30.167581  10.146750  12.604886  19.602970  \n",
       "\n",
       "[5 rows x 610 columns]"
      ]
     },
     "execution_count": 44,
     "metadata": {},
     "output_type": "execute_result"
    }
   ],
   "source": [
    "user_similarities.head()"
   ]
  },
  {
   "cell_type": "markdown",
   "metadata": {},
   "source": [
    "I created a recommend_movies function to act as a recommendation system to recommend 5 movies to a user using collaborative user-based filtering. The function took out movies that were already watched by a user to increase the chance of unique movie recommendations. The function sorted the movies to only mostly recommend movies rated a '5' to keep with the theme of recommending only highly rated movies."
   ]
  },
  {
   "cell_type": "code",
   "execution_count": 45,
   "metadata": {},
   "outputs": [],
   "source": [
    "def recommend_movies(user, user_similarities, user_ratings, df, n_users=20, n_items=5):\n",
    "    \"\"\"\n",
    "    Recommends movies for n number of items. \n",
    "    n is the number of similar users who you wish to use to generate recommendations.\n",
    "    The similar users are offset by 1 to omit most similar user of oneself.\n",
    "    already_watched: \n",
    "        movies already watched by the user\n",
    "    unwatched: \n",
    "        movies not yet watched by the user\n",
    "    projected_user_reviews: \n",
    "        ratings of top n users \n",
    "    Returns: \n",
    "        top five movie recommendations and ratings for a movie watcher \n",
    "    \"\"\"\n",
    "    top_n_similar_users = user_similarities[user-1].drop(user-1).sort_values().index[:n_users] \n",
    "    top_n_similar_users = [i+1 for i in top_n_similar_users] \n",
    "    already_watched = set(df[df.userId == 0].movieId.unique())\n",
    "    unwatched = set(df.movieId.unique()) - already_watched\n",
    "    projected_user_reviews = user_ratings[user_ratings.index.isin(top_n_similar_users)].mean()[list(unwatched)].sort_values(ascending=False)\n",
    "    return projected_user_reviews[:n_items]"
   ]
  },
  {
   "cell_type": "code",
   "execution_count": 46,
   "metadata": {},
   "outputs": [
    {
     "data": {
      "text/plain": [
       "movieId\n",
       "158027    5.0\n",
       "7096      5.0\n",
       "95311     5.0\n",
       "3531      5.0\n",
       "96935     5.0\n",
       "dtype: float64"
      ]
     },
     "execution_count": 46,
     "metadata": {},
     "output_type": "execute_result"
    }
   ],
   "source": [
    "recommend_movies(43, user_similarities, user_ratings, df)"
   ]
  },
  {
   "cell_type": "code",
   "execution_count": 47,
   "metadata": {
    "scrolled": true
   },
   "outputs": [
    {
     "data": {
      "text/html": [
       "<div>\n",
       "<style scoped>\n",
       "    .dataframe tbody tr th:only-of-type {\n",
       "        vertical-align: middle;\n",
       "    }\n",
       "\n",
       "    .dataframe tbody tr th {\n",
       "        vertical-align: top;\n",
       "    }\n",
       "\n",
       "    .dataframe thead th {\n",
       "        text-align: right;\n",
       "    }\n",
       "</style>\n",
       "<table border=\"1\" class=\"dataframe\">\n",
       "  <thead>\n",
       "    <tr style=\"text-align: right;\">\n",
       "      <th></th>\n",
       "      <th>movieId</th>\n",
       "      <th>title</th>\n",
       "      <th>genres</th>\n",
       "    </tr>\n",
       "  </thead>\n",
       "  <tbody>\n",
       "    <tr>\n",
       "      <th>9284</th>\n",
       "      <td>158027</td>\n",
       "      <td>SORI: Voice from the Heart (2016)</td>\n",
       "      <td>Drama|Sci-Fi</td>\n",
       "    </tr>\n",
       "  </tbody>\n",
       "</table>\n",
       "</div>"
      ],
      "text/plain": [
       "      movieId                              title        genres\n",
       "9284   158027  SORI: Voice from the Heart (2016)  Drama|Sci-Fi"
      ]
     },
     "execution_count": 47,
     "metadata": {},
     "output_type": "execute_result"
    }
   ],
   "source": [
    "movies.loc[movies['movieId']== 158027]"
   ]
  },
  {
   "cell_type": "code",
   "execution_count": 48,
   "metadata": {},
   "outputs": [
    {
     "data": {
      "text/html": [
       "<div>\n",
       "<style scoped>\n",
       "    .dataframe tbody tr th:only-of-type {\n",
       "        vertical-align: middle;\n",
       "    }\n",
       "\n",
       "    .dataframe tbody tr th {\n",
       "        vertical-align: top;\n",
       "    }\n",
       "\n",
       "    .dataframe thead th {\n",
       "        text-align: right;\n",
       "    }\n",
       "</style>\n",
       "<table border=\"1\" class=\"dataframe\">\n",
       "  <thead>\n",
       "    <tr style=\"text-align: right;\">\n",
       "      <th></th>\n",
       "      <th>movieId</th>\n",
       "      <th>title</th>\n",
       "      <th>genres</th>\n",
       "    </tr>\n",
       "  </thead>\n",
       "  <tbody>\n",
       "    <tr>\n",
       "      <th>4768</th>\n",
       "      <td>7096</td>\n",
       "      <td>Rivers and Tides (2001)</td>\n",
       "      <td>Documentary</td>\n",
       "    </tr>\n",
       "  </tbody>\n",
       "</table>\n",
       "</div>"
      ],
      "text/plain": [
       "      movieId                    title       genres\n",
       "4768     7096  Rivers and Tides (2001)  Documentary"
      ]
     },
     "execution_count": 48,
     "metadata": {},
     "output_type": "execute_result"
    }
   ],
   "source": [
    "movies.loc[movies['movieId']== 7096]"
   ]
  },
  {
   "cell_type": "code",
   "execution_count": 49,
   "metadata": {},
   "outputs": [
    {
     "data": {
      "text/html": [
       "<div>\n",
       "<style scoped>\n",
       "    .dataframe tbody tr th:only-of-type {\n",
       "        vertical-align: middle;\n",
       "    }\n",
       "\n",
       "    .dataframe tbody tr th {\n",
       "        vertical-align: top;\n",
       "    }\n",
       "\n",
       "    .dataframe thead th {\n",
       "        text-align: right;\n",
       "    }\n",
       "</style>\n",
       "<table border=\"1\" class=\"dataframe\">\n",
       "  <thead>\n",
       "    <tr style=\"text-align: right;\">\n",
       "      <th></th>\n",
       "      <th>movieId</th>\n",
       "      <th>title</th>\n",
       "      <th>genres</th>\n",
       "    </tr>\n",
       "  </thead>\n",
       "  <tbody>\n",
       "    <tr>\n",
       "      <th>7917</th>\n",
       "      <td>95311</td>\n",
       "      <td>Presto (2008)</td>\n",
       "      <td>Animation|Children|Comedy|Fantasy</td>\n",
       "    </tr>\n",
       "  </tbody>\n",
       "</table>\n",
       "</div>"
      ],
      "text/plain": [
       "      movieId          title                             genres\n",
       "7917    95311  Presto (2008)  Animation|Children|Comedy|Fantasy"
      ]
     },
     "execution_count": 49,
     "metadata": {},
     "output_type": "execute_result"
    }
   ],
   "source": [
    "movies.loc[movies['movieId']== 95311]"
   ]
  },
  {
   "cell_type": "code",
   "execution_count": 50,
   "metadata": {},
   "outputs": [
    {
     "data": {
      "text/html": [
       "<div>\n",
       "<style scoped>\n",
       "    .dataframe tbody tr th:only-of-type {\n",
       "        vertical-align: middle;\n",
       "    }\n",
       "\n",
       "    .dataframe tbody tr th {\n",
       "        vertical-align: top;\n",
       "    }\n",
       "\n",
       "    .dataframe thead th {\n",
       "        text-align: right;\n",
       "    }\n",
       "</style>\n",
       "<table border=\"1\" class=\"dataframe\">\n",
       "  <thead>\n",
       "    <tr style=\"text-align: right;\">\n",
       "      <th></th>\n",
       "      <th>movieId</th>\n",
       "      <th>title</th>\n",
       "      <th>genres</th>\n",
       "    </tr>\n",
       "  </thead>\n",
       "  <tbody>\n",
       "    <tr>\n",
       "      <th>2639</th>\n",
       "      <td>3531</td>\n",
       "      <td>All the Vermeers in New York (1990)</td>\n",
       "      <td>Comedy|Drama|Romance</td>\n",
       "    </tr>\n",
       "  </tbody>\n",
       "</table>\n",
       "</div>"
      ],
      "text/plain": [
       "      movieId                                title                genres\n",
       "2639     3531  All the Vermeers in New York (1990)  Comedy|Drama|Romance"
      ]
     },
     "execution_count": 50,
     "metadata": {},
     "output_type": "execute_result"
    }
   ],
   "source": [
    "movies.loc[movies['movieId']== 3531]"
   ]
  },
  {
   "cell_type": "code",
   "execution_count": 51,
   "metadata": {
    "scrolled": true
   },
   "outputs": [
    {
     "data": {
      "text/html": [
       "<div>\n",
       "<style scoped>\n",
       "    .dataframe tbody tr th:only-of-type {\n",
       "        vertical-align: middle;\n",
       "    }\n",
       "\n",
       "    .dataframe tbody tr th {\n",
       "        vertical-align: top;\n",
       "    }\n",
       "\n",
       "    .dataframe thead th {\n",
       "        text-align: right;\n",
       "    }\n",
       "</style>\n",
       "<table border=\"1\" class=\"dataframe\">\n",
       "  <thead>\n",
       "    <tr style=\"text-align: right;\">\n",
       "      <th></th>\n",
       "      <th>movieId</th>\n",
       "      <th>title</th>\n",
       "      <th>genres</th>\n",
       "    </tr>\n",
       "  </thead>\n",
       "  <tbody>\n",
       "    <tr>\n",
       "      <th>7993</th>\n",
       "      <td>96935</td>\n",
       "      <td>My Left Eye Sees Ghosts (Ngo joh aan gin diy g...</td>\n",
       "      <td>Comedy|Fantasy|Romance</td>\n",
       "    </tr>\n",
       "  </tbody>\n",
       "</table>\n",
       "</div>"
      ],
      "text/plain": [
       "      movieId                                              title  \\\n",
       "7993    96935  My Left Eye Sees Ghosts (Ngo joh aan gin diy g...   \n",
       "\n",
       "                      genres  \n",
       "7993  Comedy|Fantasy|Romance  "
      ]
     },
     "execution_count": 51,
     "metadata": {},
     "output_type": "execute_result"
    }
   ],
   "source": [
    "movies.loc[movies['movieId']== 96935]"
   ]
  },
  {
   "cell_type": "markdown",
   "metadata": {},
   "source": [
    "## The Cold Start Problem"
   ]
  },
  {
   "cell_type": "markdown",
   "metadata": {},
   "source": [
    "My recommendation systems did well, but how is a common problem known as the cold start problem addressed? The cold start problem occurs where a new user is introduced to the dataset that has not provided a substantial amount of information to make recommendations. The SVD model was included to address the cold start problem. SVD involves the creation of a sparse matrix where user ratings for movies can be inferred based off of a few provided ratings or small amount of information from a new user in relation to already provided user information. The new user can be asked to provide a small amount of information about possible interests and a new user can be categorized in accordance with similar user preferences to determine what the new user might like. Also, what is popular or trending can be a recommendation created for a new user. My models mainly recommended highly rated movies around the same year that \"Toy Story\" was released, so what was popular in the year \"Toy Story\" was released was usually recommended to deal with the cold start problem. For the function-based recommendation system unrated movies were filled in with the mean rating for each column in the user ratings dataframe. A collaborative filtering user-based method was instilled. Movies that were already watched were left out of recommendations for a user. Movies that were recommended to users and considered popular were movies that were estimated to be highly rated by users."
   ]
  },
  {
   "cell_type": "markdown",
   "metadata": {},
   "source": [
    "## Conclusions\n",
    "\n",
    "- The best recommendation system employed SVD.\n",
    "\n",
    "- Five similar movie recommendations for user 43 who watched \"Toy Story\" and rated it a '5' from the SVD model were:  \n",
    "\n",
    "Apollo 13 (1995)/4.9,\n",
    "Forrest Gump (1994)/5.0,\n",
    "Star Wars: Episode IV - A New Hope (1977)/5.0,\n",
    "The Jungle Book (1994)/4.8,\n",
    "and Mrs. Doubtfire (1993)/4.8"
   ]
  },
  {
   "cell_type": "markdown",
   "metadata": {},
   "source": [
    "## Recommendations for Further Analysis\n",
    "\n",
    "- Change the distance metric and parameters for my function-based recommendation system\n",
    "\n",
    "\n",
    "- Deploy a recommendation system for use to new users"
   ]
  }
 ],
 "metadata": {
  "kernelspec": {
   "display_name": "learn-env",
   "language": "python",
   "name": "learn-env"
  },
  "language_info": {
   "codemirror_mode": {
    "name": "ipython",
    "version": 3
   },
   "file_extension": ".py",
   "mimetype": "text/x-python",
   "name": "python",
   "nbconvert_exporter": "python",
   "pygments_lexer": "ipython3",
   "version": "3.6.9"
  }
 },
 "nbformat": 4,
 "nbformat_minor": 4
}
